{
 "cells": [
  {
   "cell_type": "markdown",
   "id": "22b33cbc-926f-4e03-8126-55e2f8aa6d0a",
   "metadata": {},
   "source": [
    "### Q1: Explain the following with an example:\n",
    "\n",
    "1. Artificial Intelligence : It is the science and engineering of making intelligent machines, especially intelligent computer programs. It is related to the similar task of\n",
    "using computers to understand human intelligence, but AI does not have to\n",
    "confine itself to methods that are biologically observable.\n",
    "\n",
    "2. Machine Learing: it is a field of study that gives computers ability to learn without being explicitly programmed. A computer program is said to be learning from experience E with respect to some task T and some performance measure P ,if its performance on T , as measured by P improves with experience E.\n",
    "\n",
    "3. Deep Learning: Deep learning is a subset of machine learning, which is essentially a neural network with three or more layers. These neural networks attempt to simulate the behavior of the human brain—albeit far from matching its ability—allowing it to “learn” from large amounts of data. While a neural network with a single layer can still make approximate predictions, additional hidden layers can help to optimize and refine for accuracy. "
   ]
  },
  {
   "cell_type": "markdown",
   "id": "5ed8f1f3-01f8-494b-82f5-b47045d9e703",
   "metadata": {},
   "source": [
    "### Q2- What is supervised learning ? List some examples of supervised learning.\n",
    "\n",
    "Supervised learning, also known as supervised machine learning, is a subcategory of machine learning and artificial intelligence. It is defined by its use of labeled datasets to train algorithms to classify data or predict outcomes accurately. The training set you feed to the algorithms includes the desired solutions, called labels.\n",
    "\n",
    "Supervised learning uses a training set to teach models to yield the desired output. This training dataset includes inputs and correct outputs, which allow the model to learn over time. The algorithm measures its accuracy through the loss function, adjusting until the error has been sufficiently minimized.\n",
    "\n",
    "Supervised learning can be separated into two types of problems when data mining—classification and regression:\n",
    "\n",
    "- Classification uses an algorithm to accurately assign test data into specific categories. It recognizes specific entities within the dataset and attempts to draw some conclusions on how those entities should be labeled or defined. Common classification algorithms are linear classifiers, support vector machines (SVM), decision trees, k-nearest neighbor, and random forest.\n",
    "- Regression is used to understand the relationship between dependent and independent variables. It is commonly used to make projections, such as for sales revenue for a given business. Linear regression, logistical regression, and polynomial regression are popular regression algorithms.\n",
    "\n",
    "Some of the common examples are: Spam filter, Voice recognition and Credit scoring.\n"
   ]
  },
  {
   "cell_type": "markdown",
   "id": "609bd4d3-4e3b-4ec6-a55a-43c4b1c479fb",
   "metadata": {},
   "source": [
    "### Q3: What is unsupervised learning? List some examples of unsupervised learning?\n",
    "\n",
    "Unsupervised learning, also known as unsupervised machine learning, uses machine learning algorithms to analyze and cluster unlabeled datasets. These algorithms discover hidden patterns or data groupings without the need for human intervention. Its ability to discover similarities and differences in information make it the ideal solution for exploratory data analysis, cross-selling strategies, customer segmentation, and image recognition.\n",
    "\n",
    "The training data given to the model is unlabeled. The system tries to learn without a teacher. Unsupervised learning models are utilized for three main tasks—clustering, association, and dimensionality reduction.\n",
    "\n",
    "Examples: \n",
    "- Market Basket Analysis : It is a machine learning model based on the algorithm that if you buy a certain group of items, you are less or more likely to buy another group of items.\n",
    "- Recommender systems : The association rules method is widely used to analyze buyer baskets and detect cross-category purchase correlations. A great example is Amazon’s “Frequently bought together” recommendations.  \n",
    "- Target marketing :  Whatever the industry, the method of association rules can be used to extract rules to help build more effective target marketing strategies. For instance, a travel agency may use customer demographic information as well as historical data about previous campaigns to decide on the groups of clients they should target for their new marketing campaign.\n",
    "\n",
    "\n"
   ]
  },
  {
   "cell_type": "markdown",
   "id": "a4742422-c86f-4bed-920e-8f41e00dbb6f",
   "metadata": {},
   "source": [
    "### Q4: What is the difference betweem AI,ML,DL and DS ?\n",
    "\n",
    "The easiest way to think about artificial intelligence, machine learning, deep learning and neural networks is to think of them as a series of AI systems from largest to smallest, each encompassing the next.\n",
    "\n",
    "Artificial intelligence is the overarching system. Machine learning is a subset of AI. Deep learning is a subfield of machine learning, and neural networks make up the backbone of deep learning algorithms.\n",
    "\n",
    "Data science is integration of AI,ML and DL. It requires knowledge in all these fields and integrate them to perform the task.\n"
   ]
  },
  {
   "cell_type": "markdown",
   "id": "958fc05c-2a13-4172-9d41-5288dc8dfa11",
   "metadata": {},
   "source": [
    "### Q5: What are the main differences between Supervised, unsupervised and Semi-supervised learning?\n",
    "\n",
    "1. Supervised Machine Learning\n",
    "Supervised learning is the process where you have input variables (X) and an output variable (Y) and you use an algorithm to learn the mapping function from the input to the output.\n",
    "Y = f(X)\n",
    "The goal is to approximate the mapping function so well that when you have new input data (X) that you can predict the output variables (Y ) for that data. It is called supervised learning because the process of an algorithm learning from the training dataset can be thought of as a teacher supervising the learning process. We know the correct answers; the algorithm iteratively makes predictions on the training data and is corrected by the teacher.\n",
    "\n",
    "Supervised learning problems further grouped into regression and classification problems.\n",
    "Classification: A classification problem is when the output variable is a category, such as red or blue or disease and no disease.\n",
    "Regression: A regression problem is the output variable is a real value, such as dollars or weight.\n",
    "\n",
    "Some popular examples of supervised machine learning algorithms are:\n",
    "Linear regression for regression problems.\n",
    "Random forest for classification and regression problems.\n",
    "Support vector machines for classification problems.\n",
    "\n",
    "Strengths: Outputs always have a probabilistic interpretation, and the algorithm can be regularized to avoid overfitting.\n",
    "Weaknesses: Logistic regression may underperform when there are multiple or non-linear decision boundaries. This method is not flexible, so it does not capture more complex relationships.\n",
    "\n",
    "2. Unsupervised Machine Learning\n",
    "Unsupervised learning is a machine learning technique, where you do not need to supervise the model. Instead, you need to allow the model to work on its own to discover information. It mainly deals with the unlabeled data. Algorithms are left to their own devises to discover and present the interesting structure in the data. Unsupervised learning is very useful in exploratory analysis because it can automatically identify structure in data. For example, if an analyst were trying to segment consumers, unsupervised clustering methods would be a great starting point for their analysis. In situations where it is either impossible or impractical for a human to propose trends in the data, unsupervised learning can provide initial insights that can then be used to test individual hypotheses.\n",
    "\n",
    "Unsupervised learning problems can be further grouped into clustering and association problems.\n",
    "Clustering: Clustering is an important concept when it comes to unsupervised learning. It mainly deals with finding a structure or pattern in a collection of uncategorized data. Clustering algorithms will process your data and find natural clusters(groups) if they exist in the data.\n",
    "Association: An association rule learning problem is where you want to discover rules that describe large portions of your data. This unsupervised technique is about discovering exciting relationships between variables in large databases.\n",
    "\n",
    "Some popular examples of unsupervised learning algorithms are:\n",
    "k-means for clustering problems.\n",
    "Apriori algorithm for association rule learning problems.\n",
    "\n",
    "3. Semi-supervised Machine Learning\n",
    "The biggest difference between supervised and unsupervised machine learning is: Supervised machine learning algorithms are trained on datasets that include labels added by a machine learning engineer or data scientist that guide the algorithm to understand which features are important to the problem at hand. This is a very costly process, especially when dealing with large volumes of data.Unsupervised machine learning algorithms, on the other hand, are trained on unlabeled data and must determine feature importance on their own based on inherent patterns in the data, The most basic disadvantage of any Unsupervised Learning is that it’s application spectrum is limited.\n",
    "\n",
    "To counter these disadvantages, the concept of Semi-Supervised Learning was introduced. In this type of learning, the algorithm is trained upon a combination of labeled and unlabeled data. Typically, this combination will contain a very small amount of labeled data and a very large amount of unlabeled data. This is useful for a few reasons. First, the process of labeling massive amounts of data for supervised learning is often prohibitively time-consuming and expensive. What’s more, too much labeling can impose human biases on the model. That means including lots of unlabeled data during the training process actually tends to improve the accuracy of the final model while reducing the time and cost spent building it. You can use unsupervised learning techniques to discover and learn the structure in the input variables. You can also use supervised learning techniques to make best guess predictions for the unlabeled data, feed that data back into the supervised learning algorithm as training data and use the model to make predictions on new unseen data.\n",
    "\n",
    "Practical applications of Semi-Supervised Learning:-\n",
    "Speech Analysis: Since labeling of audio files is a very intensive task, Semi-Supervised learning is a very natural approach to solve this problem.\n",
    "Internet Content Classification: Labeling each webpage is an impractical and unfeasible process and thus uses Semi-Supervised learning algorithms.\n",
    "Protein Sequence Classification: Since DNA strands are typically very large in size, the rise of Semi-Supervised learning has been imminent in this field."
   ]
  },
  {
   "cell_type": "markdown",
   "id": "b83376c8-e562-4cd6-b98b-6b766c8a0ec6",
   "metadata": {},
   "source": [
    "### Q6: What is train,test and validation split? Explain importance of each term.\n",
    "\n",
    "In machine learning, a common task is the study and construction of algorithms that can learn from and make predictions on data.Such algorithms function by making data-driven predictions or decisions, through building a mathematical model from input data. These input data used to build the model are usually divided into multiple data sets. In particular, three data sets are commonly used in different stages of the creation of the model: training, validation, and test sets.\n",
    "\n",
    "- Training Data: The model is initially fit on a training data set, which is a set of examples used to fit the parameters of the model.The model is trained on the training data set using a supervised learning method, for example using optimization methods such as gradient descent or stochastic gradient descent. In practice, the training data set often consists of pairs of an input vector (or scalar) and the corresponding output vector (or scalar), where the answer key is commonly denoted as the target (or label). The current model is run with the training data set and produces a result, which is then compared with the target, for each input vector in the training data set. Based on the result of the comparison and the specific learning algorithm being used, the parameters of the model are adjusted. The model fitting can include both variable selection and parameter estimation.\n",
    "\n",
    "- Validation Data : Successively, the fitted model is used to predict the responses for the observations in a second data set called the validation data set.The validation data set provides an unbiased evaluation of a model fit on the training data set while tuning the model's hyperparameters . Validation datasets can be used for regularization by early stopping (stopping training when the error on the validation data set increases, as this is a sign of over-fitting to the training data set).This simple procedure is complicated in practice by the fact that the validation dataset's error may fluctuate during training, producing multiple local minima. This complication has led to the creation of many ad-hoc rules for deciding when over-fitting has truly begun.\n",
    "\n",
    "- Test data: Finally, the test data set is a data set used to provide an unbiased evaluation of a final model fit on the training data set.If the data in the test data set has never been used in training (for example in cross-validation), the test data set is also called a holdout data set. The term \"validation set\" is sometimes used instead of \"test set\" in some literature (e.g., if the original data set was partitioned into only two subsets, the test set might be referred to as the validation set).\n",
    "\n",
    "Deciding the sizes and strategies for data set division in training, test and validation sets is very dependent on the problem and data available.\n"
   ]
  },
  {
   "cell_type": "markdown",
   "id": "f7cc6938-df4f-465c-95b1-8b0ed11d4128",
   "metadata": {},
   "source": [
    "### Q7: How can Unsupervised learning be used in anamoly detection?\n",
    "\n",
    "Anomaly is a synonym for the word ‘outlier’. Anomaly detection (or outlier detection) is the identification of rare items, events or observations which raise suspicions by differing significantly from the majority of the data. Anomalous activities can be linked to some kind of problems or rare events such as bank fraud, medical problems, structural defects, malfunctioning equipment etc.\n",
    "\n",
    "Let us understand the above with an analogy. In the world of human diseases, normal activity can be compared with diseases such as malaria, dengue, swine-flu, etc. for which we have a cure. SarS-CoV-2 (CoViD-19), on the other hand, is an anomaly that has crept into our world of diseases, which has characteristics of a normal disease with the exception of delayed symptoms. Had the SarS-CoV-2 anomaly been detected in its very early stage, its spread could have been contained significantly and we wouldn’t have faced a pandemic. Since SarS-CoV-2 is an entirely new anomaly that has never been seen before, even a supervised learning procedure to detect this as an anomaly would have failed since a supervised learning model just learns patterns from the features and labels in the given dataset whereas by providing normal data of pre-existing diseases to an unsupervised learning algorithm, we could have detected this virus as an anomaly with high probability since it would not have fallen into the category (cluster) of normal diseases."
   ]
  },
  {
   "cell_type": "markdown",
   "id": "e82fd96c-6b1e-4232-b287-3231ba8bcd57",
   "metadata": {},
   "source": [
    "### Q8: List down some commonly used supervised learning algorithms and unsupervised learning algorithms?\n",
    "Supervised learning algorithms : Some of the most common algorithms in Supervised Learning include Support Vector Machines (SVM), Logistic Regression, Naive Bayes, Neural Networks, K-nearest neighbor (KNN), and Random Forest.\n",
    "\n",
    "Unsupervised learning algorithms: K-means clustering ,Hierarchical clustering,Gaussian Mixture Models,Apriori algorithms, Principal component analysis."
   ]
  },
  {
   "cell_type": "code",
   "execution_count": null,
   "id": "4c213150-53a1-4ca2-b137-f174a4f4bfd1",
   "metadata": {},
   "outputs": [],
   "source": []
  }
 ],
 "metadata": {
  "kernelspec": {
   "display_name": "Python 3 (ipykernel)",
   "language": "python",
   "name": "python3"
  },
  "language_info": {
   "codemirror_mode": {
    "name": "ipython",
    "version": 3
   },
   "file_extension": ".py",
   "mimetype": "text/x-python",
   "name": "python",
   "nbconvert_exporter": "python",
   "pygments_lexer": "ipython3",
   "version": "3.10.8"
  }
 },
 "nbformat": 4,
 "nbformat_minor": 5
}
