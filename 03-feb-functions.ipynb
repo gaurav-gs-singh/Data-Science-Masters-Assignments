{
 "cells": [
  {
   "cell_type": "markdown",
   "id": "2e125a5a-0640-43e4-94f6-64914fb8acfb",
   "metadata": {},
   "source": [
    "## Q1. Which keyword is used to create a function? Create a function to return a list of odd numbers in the  range of 1 to 25. \n",
    "def keyword is used to create a function in python."
   ]
  },
  {
   "cell_type": "code",
   "execution_count": 12,
   "id": "73a85894-3608-4833-aded-0e76998bc557",
   "metadata": {},
   "outputs": [],
   "source": [
    "odd_no = []\n",
    "def odd_test():\n",
    "    for i in range (25):\n",
    "        if i % 2 != 0:\n",
    "            odd_no.append(i)\n",
    "    print(odd_no)"
   ]
  },
  {
   "cell_type": "code",
   "execution_count": 13,
   "id": "f39ca952-1ce4-46e5-adaf-cf1692996600",
   "metadata": {},
   "outputs": [
    {
     "name": "stdout",
     "output_type": "stream",
     "text": [
      "[1, 3, 5, 7, 9, 11, 13, 15, 17, 19, 21, 23]\n"
     ]
    }
   ],
   "source": [
    "odd_test()"
   ]
  },
  {
   "cell_type": "markdown",
   "id": "e36f6311-ddf8-49e1-ad5a-eb7978ffad44",
   "metadata": {},
   "source": [
    "##  Q2. Why *args and **kwargs is used in some functions? Create a function each for *args and **kwargs to  demonstrate their use. \n",
    "*args and **kwargs are used as arguments of a function when we are not sure about the number of required parameters to pass in the finction.\n",
    "*args allows us to pass a variable number of non-keyword arguments to a function. it is not a keyword and user can use any string of choice to perform the same operation.\n",
    "**kwargs is used to declare arguments incase of a dictionary. It allows us to create any number of key-value pairs.  it is also not a keyword."
   ]
  },
  {
   "cell_type": "code",
   "execution_count": 15,
   "id": "961af503-bd41-4d90-b685-9a524df45310",
   "metadata": {},
   "outputs": [],
   "source": [
    "# *args\n",
    "def test1(*args):\n",
    "    return args;\n"
   ]
  },
  {
   "cell_type": "code",
   "execution_count": 16,
   "id": "456af679-7d9d-4244-9e18-6d8b6f5724fb",
   "metadata": {},
   "outputs": [
    {
     "data": {
      "text/plain": [
       "(1, 2, 3, 4, ['Delhi', 'Mumbai', 'Bengaluru', 'Goa'], (100, 101, 102))"
      ]
     },
     "execution_count": 16,
     "metadata": {},
     "output_type": "execute_result"
    }
   ],
   "source": [
    "test1(1,2,3,4,[\"Delhi\", \"Mumbai\",\"Bengaluru\",\"Goa\"],(100,101,102))"
   ]
  },
  {
   "cell_type": "code",
   "execution_count": 19,
   "id": "4fcb7bbc-df44-401d-bb81-42d17f26121b",
   "metadata": {},
   "outputs": [],
   "source": [
    "# **kwargs\n",
    "def test2(**kwargs):\n",
    "    return kwargs"
   ]
  },
  {
   "cell_type": "code",
   "execution_count": 20,
   "id": "05617bba-268f-49df-a41e-25125cbd83df",
   "metadata": {},
   "outputs": [
    {
     "data": {
      "text/plain": [
       "{'a': 100, 'b': 200, 'name': ['ram', 'shyam', 'ghanshyam']}"
      ]
     },
     "execution_count": 20,
     "metadata": {},
     "output_type": "execute_result"
    }
   ],
   "source": [
    "test2(a = 100, b =200,name =  [\"ram\",\"shyam\",\"ghanshyam\"])"
   ]
  },
  {
   "cell_type": "markdown",
   "id": "ef12c415-6b5d-46b0-b2c1-f9c9e5588f69",
   "metadata": {},
   "source": [
    "## Q3.  What is an iterator in python? Name the method used to initialise the iterator object and the method  used for iteration. Use these methods to print the first five elements of the given list [2, 4, 6, 8, 10, 12, 14, 16,  18, 20]. \n",
    "Iterator is an object that allows you to iterate over collections of data, such as lists, tuples, dictionaries, and sets. The two baisc function of an iterator is:\n",
    "a. Returning the data from a container one at a time.\n",
    "b. Keeping track of the current and visited items.\n",
    "### The methods used to intitialize the iterator object are:\n",
    "a. __iter__() : This method is called for initialization of an iterator. This returns an iterator object.\n",
    "b. __next__() : The next method returns the next value for the iterable.\n",
    "### Method used for iteraiont are: \n",
    "While loop and for loop are used for iteration.  when we use these iteration method, the __iter__() and __next__() methods are performed internally.\n",
    "\n",
    "\n"
   ]
  },
  {
   "cell_type": "code",
   "execution_count": 11,
   "id": "7451c45b-638e-42a1-8721-4fd68e8c4b81",
   "metadata": {},
   "outputs": [
    {
     "data": {
      "text/plain": [
       "[2, 4, 6, 8, 10, 12, 14, 16, 18, 20]"
      ]
     },
     "execution_count": 11,
     "metadata": {},
     "output_type": "execute_result"
    }
   ],
   "source": [
    "list1 = [2, 4, 6, 8, 10, 12, 14, 16,  18, 20]\n",
    "list1"
   ]
  },
  {
   "cell_type": "code",
   "execution_count": 12,
   "id": "1b904528-9822-48b1-82bc-6f943b448c63",
   "metadata": {},
   "outputs": [
    {
     "name": "stdout",
     "output_type": "stream",
     "text": [
      "2\n",
      "4\n",
      "6\n",
      "8\n",
      "10\n"
     ]
    }
   ],
   "source": [
    "# for loop\n",
    "for i in list1:\n",
    "    print (i)\n",
    "    if i >= list1[4]:\n",
    "        break\n",
    "    \n",
    "    \n",
    "    \n"
   ]
  },
  {
   "cell_type": "code",
   "execution_count": 13,
   "id": "3d70659c-e5c0-45a1-98be-fc8d39947800",
   "metadata": {},
   "outputs": [
    {
     "name": "stdout",
     "output_type": "stream",
     "text": [
      "2\n",
      "4\n",
      "6\n",
      "8\n",
      "10\n"
     ]
    }
   ],
   "source": [
    "# while loop\n",
    "i=0\n",
    "while i < len(list1[0:5]):\n",
    "    print(list1[i])\n",
    "    i+=1"
   ]
  },
  {
   "cell_type": "markdown",
   "id": "e494a59b-f96a-4821-aa85-0907f0d44fb2",
   "metadata": {},
   "source": [
    "## Q4.  What is a generator function in python? Why yield keyword is used? Give an example of a generator  function. \n",
    "Generator function are those functions that return a iterable object, which is called generator object. Generator functions are defined as the normal function, but to identify the difference between the normal function and generator function is that in the normal function, we use the return keyword to return the values, and in the generator function, instead of using the return, we use yield to execute our iterator.\n",
    "Generators are a prowerful tool to work with complex data sets as they allow you to generate values on the fly rather than having to create and store the entire sequesnce in memory.\n",
    "Yield keyword is used with generator function. the yield keyword will turn any expression that is given with it into a generator object and return it to the caller. it returns a value from the generator an suspends the execution until the next value is requested. This makes it memory efficient and easy to work with large and complex data."
   ]
  },
  {
   "cell_type": "code",
   "execution_count": 14,
   "id": "571a83db-1d8f-4992-b8b2-14679d7dce63",
   "metadata": {},
   "outputs": [],
   "source": [
    "def test_fun(n):\n",
    "    for i in range(n):\n",
    "        yield i"
   ]
  },
  {
   "cell_type": "code",
   "execution_count": 15,
   "id": "7c4d8939-53c3-4fa9-bbf9-93561ea59fdd",
   "metadata": {},
   "outputs": [
    {
     "data": {
      "text/plain": [
       "<generator object test_fun at 0x7fefa6e57c30>"
      ]
     },
     "execution_count": 15,
     "metadata": {},
     "output_type": "execute_result"
    }
   ],
   "source": [
    "test_fun(10)"
   ]
  },
  {
   "cell_type": "code",
   "execution_count": 17,
   "id": "84e29310-2317-4618-a00e-87d0e5fc09d9",
   "metadata": {},
   "outputs": [
    {
     "name": "stdout",
     "output_type": "stream",
     "text": [
      "0\n",
      "1\n",
      "2\n",
      "3\n",
      "4\n",
      "5\n",
      "6\n",
      "7\n",
      "8\n",
      "9\n"
     ]
    }
   ],
   "source": [
    "for i in test_fun(10):\n",
    "    print (i)"
   ]
  },
  {
   "cell_type": "markdown",
   "id": "a1ae8cea-8938-41f7-aada-147363007d65",
   "metadata": {},
   "source": [
    "## Q5. Create a generator function for prime numbers less than 1000. Use the next() method to print the  first 20 prime numbers. \n"
   ]
  },
  {
   "cell_type": "code",
   "execution_count": 41,
   "id": "4e0f90d5-dc70-48d7-bf17-bcf992be0b2c",
   "metadata": {},
   "outputs": [],
   "source": [
    "def prime_no():\n",
    "    for i in range (1000):\n",
    "        if i >1 :\n",
    "            for j in range(2,i):\n",
    "                if(i%j == 0):\n",
    "                    break\n",
    "            else:\n",
    "                yield i "
   ]
  },
  {
   "cell_type": "code",
   "execution_count": 42,
   "id": "48d6a367-6aa6-425e-a021-6a81f38124dc",
   "metadata": {},
   "outputs": [
    {
     "data": {
      "text/plain": [
       "<generator object prime_no at 0x7fb2c84d5e00>"
      ]
     },
     "execution_count": 42,
     "metadata": {},
     "output_type": "execute_result"
    }
   ],
   "source": [
    "prime_no()"
   ]
  },
  {
   "cell_type": "code",
   "execution_count": 63,
   "id": "9ff8d96a-600e-4d8d-b6d0-1aa2eb8a6f3e",
   "metadata": {},
   "outputs": [],
   "source": [
    "next_prime = prime_no()"
   ]
  },
  {
   "cell_type": "code",
   "execution_count": 64,
   "id": "b2a4737a-76e9-4cc0-902f-e4cc6556d733",
   "metadata": {},
   "outputs": [
    {
     "name": "stdout",
     "output_type": "stream",
     "text": [
      "2\n"
     ]
    }
   ],
   "source": [
    "print(next(next_prime))\n",
    "        "
   ]
  },
  {
   "cell_type": "code",
   "execution_count": 65,
   "id": "fb12cb44-5520-4778-a0d3-65828c2608b0",
   "metadata": {},
   "outputs": [
    {
     "name": "stdout",
     "output_type": "stream",
     "text": [
      "3\n"
     ]
    }
   ],
   "source": [
    "print(next(next_prime))"
   ]
  },
  {
   "cell_type": "code",
   "execution_count": 66,
   "id": "89c32394-e099-4f50-8831-65f856cf6581",
   "metadata": {},
   "outputs": [
    {
     "name": "stdout",
     "output_type": "stream",
     "text": [
      "5\n"
     ]
    }
   ],
   "source": [
    "print(next(next_prime))"
   ]
  },
  {
   "cell_type": "code",
   "execution_count": null,
   "id": "dc612c14-92f0-4549-9ac1-ce4f543ba91a",
   "metadata": {},
   "outputs": [],
   "source": [
    "print(next(next_prime))"
   ]
  },
  {
   "cell_type": "code",
   "execution_count": 67,
   "id": "dc25446e-dc70-42e3-89a9-18ad2ab005b8",
   "metadata": {},
   "outputs": [
    {
     "name": "stdout",
     "output_type": "stream",
     "text": [
      "7\n"
     ]
    }
   ],
   "source": [
    "print(next(next_prime))"
   ]
  },
  {
   "cell_type": "code",
   "execution_count": 68,
   "id": "aee5bf2e-08c7-4462-8c1b-e2a47c58769f",
   "metadata": {},
   "outputs": [
    {
     "name": "stdout",
     "output_type": "stream",
     "text": [
      "11\n"
     ]
    }
   ],
   "source": [
    "print(next(next_prime))"
   ]
  },
  {
   "cell_type": "code",
   "execution_count": 69,
   "id": "ba8c1653-08d8-4aed-8259-e71dcfa511c5",
   "metadata": {},
   "outputs": [
    {
     "name": "stdout",
     "output_type": "stream",
     "text": [
      "13\n"
     ]
    }
   ],
   "source": [
    "print(next(next_prime))"
   ]
  },
  {
   "cell_type": "code",
   "execution_count": 70,
   "id": "35455a58-2321-49e1-a2f3-192bcbfb03a4",
   "metadata": {},
   "outputs": [
    {
     "name": "stdout",
     "output_type": "stream",
     "text": [
      "17\n"
     ]
    }
   ],
   "source": [
    "print(next(next_prime))"
   ]
  },
  {
   "cell_type": "code",
   "execution_count": 71,
   "id": "1923ad87-0bba-4f15-92ba-57fa22d87f46",
   "metadata": {},
   "outputs": [
    {
     "name": "stdout",
     "output_type": "stream",
     "text": [
      "19\n"
     ]
    }
   ],
   "source": [
    "print(next(next_prime))"
   ]
  },
  {
   "cell_type": "code",
   "execution_count": 72,
   "id": "cfd2d75d-7c96-47af-94b4-ec7e4307769a",
   "metadata": {},
   "outputs": [
    {
     "name": "stdout",
     "output_type": "stream",
     "text": [
      "23\n"
     ]
    }
   ],
   "source": [
    "print(next(next_prime))"
   ]
  },
  {
   "cell_type": "code",
   "execution_count": 73,
   "id": "203a1df7-529d-4712-bb3b-f06bee62d217",
   "metadata": {},
   "outputs": [
    {
     "name": "stdout",
     "output_type": "stream",
     "text": [
      "29\n"
     ]
    }
   ],
   "source": [
    "print(next(next_prime))"
   ]
  },
  {
   "cell_type": "code",
   "execution_count": 74,
   "id": "46c1ae6e-ea9f-4eb9-8c6b-b41074850cca",
   "metadata": {},
   "outputs": [
    {
     "name": "stdout",
     "output_type": "stream",
     "text": [
      "31\n"
     ]
    }
   ],
   "source": [
    "print(next(next_prime))"
   ]
  },
  {
   "cell_type": "code",
   "execution_count": 75,
   "id": "4e227079-f3f6-4c85-8a16-a92fd6e66be2",
   "metadata": {},
   "outputs": [
    {
     "name": "stdout",
     "output_type": "stream",
     "text": [
      "37\n"
     ]
    }
   ],
   "source": [
    "print(next(next_prime))"
   ]
  },
  {
   "cell_type": "code",
   "execution_count": 76,
   "id": "88b9526f-fc0a-4ea3-b1ef-87183fa0a4d9",
   "metadata": {},
   "outputs": [
    {
     "name": "stdout",
     "output_type": "stream",
     "text": [
      "41\n"
     ]
    }
   ],
   "source": [
    "print(next(next_prime))"
   ]
  },
  {
   "cell_type": "code",
   "execution_count": 77,
   "id": "2c757e35-af38-4ae2-9101-2969e9a51780",
   "metadata": {},
   "outputs": [
    {
     "name": "stdout",
     "output_type": "stream",
     "text": [
      "43\n"
     ]
    }
   ],
   "source": [
    "print(next(next_prime))\n"
   ]
  },
  {
   "cell_type": "code",
   "execution_count": 78,
   "id": "8bde05c6-5209-44ad-8978-7ec7506a4d32",
   "metadata": {},
   "outputs": [
    {
     "name": "stdout",
     "output_type": "stream",
     "text": [
      "47\n"
     ]
    }
   ],
   "source": [
    "print(next(next_prime))"
   ]
  },
  {
   "cell_type": "code",
   "execution_count": 79,
   "id": "73d70c84-b4e1-403c-bdd7-f2df9034ab69",
   "metadata": {},
   "outputs": [
    {
     "name": "stdout",
     "output_type": "stream",
     "text": [
      "53\n"
     ]
    }
   ],
   "source": [
    "print(next(next_prime))"
   ]
  },
  {
   "cell_type": "code",
   "execution_count": 80,
   "id": "d096c324-f27e-4ec1-b2e2-4f2968e9163d",
   "metadata": {},
   "outputs": [
    {
     "name": "stdout",
     "output_type": "stream",
     "text": [
      "59\n"
     ]
    }
   ],
   "source": [
    "print(next(next_prime))"
   ]
  },
  {
   "cell_type": "code",
   "execution_count": 81,
   "id": "1051f2ea-6fa3-449a-9724-3543480893c1",
   "metadata": {},
   "outputs": [
    {
     "name": "stdout",
     "output_type": "stream",
     "text": [
      "61\n"
     ]
    }
   ],
   "source": [
    "print(next(next_prime))"
   ]
  },
  {
   "cell_type": "code",
   "execution_count": 82,
   "id": "3bed1a29-b541-47f0-a00a-a2d4a6565e4f",
   "metadata": {},
   "outputs": [
    {
     "name": "stdout",
     "output_type": "stream",
     "text": [
      "67\n"
     ]
    }
   ],
   "source": [
    "print(next(next_prime))"
   ]
  },
  {
   "cell_type": "code",
   "execution_count": null,
   "id": "e0d1123a-624d-4866-b1f4-ddd2df85cfc3",
   "metadata": {},
   "outputs": [],
   "source": []
  }
 ],
 "metadata": {
  "kernelspec": {
   "display_name": "Python 3 (ipykernel)",
   "language": "python",
   "name": "python3"
  },
  "language_info": {
   "codemirror_mode": {
    "name": "ipython",
    "version": 3
   },
   "file_extension": ".py",
   "mimetype": "text/x-python",
   "name": "python",
   "nbconvert_exporter": "python",
   "pygments_lexer": "ipython3",
   "version": "3.10.8"
  }
 },
 "nbformat": 4,
 "nbformat_minor": 5
}
