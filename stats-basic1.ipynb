{
 "cells": [
  {
   "cell_type": "markdown",
   "id": "f6be6ca1-6c59-4b23-af2a-52defb57a958",
   "metadata": {},
   "source": [
    "### Q1. What is Statistics?\n",
    "\n",
    "Statistics is a branch of applied mathematics that involves the collection, description, analysis, and inference of conclusions from quantitative data. \n",
    "People who do statistics are referred to as statisticians. They're particularly concerned with determining how to draw reliable conclusions about large groups and general events from the behavior and other observable characteristics of small samples. These small samples represent a portion of the large group or a limited number of instances of a general phenomenon.\n",
    "The two major areas of statistics are descriptive and inferential statistics."
   ]
  },
  {
   "cell_type": "markdown",
   "id": "1cc3d3d9-0e0f-4906-b4ef-d9544aa61351",
   "metadata": {},
   "source": [
    "### Q2. Define the different types of statistics and give an example of when each type might be used.\n",
    "\n",
    "Two major areas of statistics are: \n",
    "1. Descriptive statistics\n",
    "Descriptive statistics uses data that provides a description of the population either through numerical calculation or graph or table. It provides a graphical summary of data. It is simply used for summarizing objects, etc.\n",
    "2. Inferenttial statistics\n",
    "Inferential Statistics makes inference and prediction about population based on a sample of data taken from population. It generalizes a large dataset and applies probabilities to draw a conclusion. It is simply used for explaining meaning of descriptive stats. It is simply used to analyze, interpret result, and draw conclusion. \n",
    "\n",
    "Example : Collecting information about income, expenditure, taste and eating patterns and savings of sample of people from an area and organizing the data to draw inference. This is descriptive data. Now, if a company wants to introduce a new range of products in that area, it can draw inferences from that descriptive data and formulate their marketing strategy to target their potential customers."
   ]
  },
  {
   "cell_type": "markdown",
   "id": "589f6379-4e51-4604-bd2d-82d42a073cc1",
   "metadata": {},
   "source": [
    "### Q3. What are the different types of data and how do they differ from each other? Provide an example of each type of data.\n",
    "\n",
    "Data can be summarised as a set of facts and figures which can be used to serve a specific usage or purpose. For instance, data can be used as a survey or an analysis. Data in a systematic and organized form is referred to as information.\n",
    "Types of data:\n",
    "1. Quantitative data: Numerical data\n",
    "\n",
    "Types of quantitative data: \n",
    "\n",
    "a. Discrete data: We speak of discrete data if its values are distinct and separate. In other words: We speak of discrete data if the data can only take on certain values. This type of data can’t be measured but it can be counted. It basically represents information that can be categorized into a classification. An example is the number of heads in 100 coin flips. You can check by asking the following two questions whether you are dealing with discrete data or not: Can you count it and can it be divided up into smaller and smaller parts?\n",
    "\n",
    "b. Continuous data: Continuous Data represents measurements and therefore their values can’t be counted but they can be measured. It can be floating data type.The two types of continuous data are interval data and ratio data. \n",
    "\n",
    "Interval data : represent ordered units that have the same difference. Therefore we speak of interval data when we have a variable that contains numeric values that are ordered and where we know the exact differences between the values.Example : temeperature of a place.The problem with interval values data is that they don’t have a true zero. That means in regards to our example, that there is no such thing as no temperature. With interval data, we can add and subtract, but we cannot multiply, divide or calculate ratios. Because there is no true zero, a lot of descriptive and inferential statistics can’t be applied.\n",
    "\n",
    "Ratio Data : values are also ordered units that have the same difference. Ratio values are the same as interval values, with the difference that they do have an absolute zero. Good examples are height, weight, length etc.\n",
    "\n",
    "\n",
    "2. Qualitative data: Categorical data\n",
    "Qualitative or Categorical data represents characteristics. Therefore it can represent things like a person’s gender, language etc. Categorical data can also take on numerical values (Example: 1 for female and 0 for male). Note that those numbers don’t have mathematical meaning.\n",
    "Types of qualitative data:\n",
    "\n",
    "Nominal Data : Nominal values represent discrete units and are used to label variables, that have no quantitative value. Just think of them as labels. Note that nominal data that has no order. Therefore if you would change the order of its values, the meaning would not change. Example : marital status ; country of origin, blood group\n",
    "\n",
    "Ordinal data: Ordinal values represent discrete and ordered units. It is therefore nearly the same as nominal data, except that it’s ordering matters. The difference between the categories cannot be measured. Example: What is your educational background: a. School b. High school c. Graduate. Post graduate.  Note that the difference between school and high school is different than the difference between High School and College. This is the main limitation of ordinal data, the differences between the values is not really known. Because of that, ordinal scales are usually used to measure non-numeric features like happiness, customer satisfation etc.\n"
   ]
  },
  {
   "cell_type": "markdown",
   "id": "94f0b4a3-c66f-46a0-a643-8c4e6b1b6301",
   "metadata": {},
   "source": [
    "### Q4. Categorise the following datasets with respect to quantitative and qualitative data types:\n",
    "(i) Grading in exam: A+, A, B+, B, C+, C, D, E\n",
    "(ii) Colour of mangoes: yellow, green, orange, red\n",
    "(iii) Height data of a class: [178.9, 179, 179.5, 176, 177.2, 178.3, 175.8,...]\n",
    "(iv) Number of mangoes exported by a farm: [500, 600, 478, 672, ...]\n",
    "\n",
    "Grading in exam: A+, A, B+, B, C+, C, D, E: Qualitative ordnal data\n",
    "\n",
    "Colour of mangoes: yellow, green, orange, red : Qualitative nominal data\n",
    "\n",
    "Height data of a class: [178.9, 179, 179.5, 176, 177.2, 178.3, 175.8,...] : Quantitative ratio data\n",
    "\n",
    "Number of mangoes exported by a farm: [500, 600, 478, 672, ...]: Discrete data"
   ]
  },
  {
   "cell_type": "markdown",
   "id": "6f9cfb6c-59dc-42c6-856e-763dfbd5da12",
   "metadata": {},
   "source": [
    "### Q5. Explain the concept of levels of measurement and give an example of a variable for each level.\n",
    "\n",
    "In 1946, Harvard University psychologist Stanley Smith Stevens developed the theory of the four levels of measurement. It is very important to know level of measurement so that the data can be classified accordingly to apply different statisitcal operations. All measurement is conducted using four measurement levels.\n",
    "\n",
    "The four levels of measurement are : \n",
    "\n",
    "1. Nominal :  \"Nominal\" means \"existing in name only.\" With the nominal level of measurement all we can do is to name or label things. Even when we use numbers, these numbers are only names. We cannot perform any arithmetic with nominal level data. All we can do is count the frequencies with which the things occur.  In this level of measurement, words, letters, and alpha-numeric symbols can be used. With nominal level of measurement, no meaningful order is implied. This means we can re-order our list of variables without affecting how we look at the relationship among these variables. example: Suppose there are data about people belonging to three different gender categories. In this case, the person belonging to the female gender could be classified as F, the person belonging to the male gender could be classified as M, and transgendered classified as T.  This type of assigning classification is nominal level of measurement.\n",
    "\n",
    "2. Ordinal : This level of measurement depicts some ordered relationship among the variable’s observations. This scale enables us to order the items of interest using ordinal numbers. Here rank and order matters but we cannot measure any numerical difference between different parameters. Example : Level of agreement: Strongly Disagree, Disagree, Neutral, Agree, Strongly Agree ; A student's year of study in high school or college: Elementary, Highschool, Graduate, and Postgraduate.\n",
    "With the ordinal level of measurement, we can count the frequencies of items of interest and sort them in a meaningful rank order. And, as we said, we cannot, however, measure the distance between ranks. In terms of statistical analyses, we can count the frequency of an occurrence of an event, calculate the median, percentile, decile, and quartiles. We can also perform a variety of non-parametric hypotheses tests. But, we cannot calculate common statistical measures like the mean, median, variance, or standard deviation. And, we cannot perform parametric hypothesis tests using z values, t values, and F values.\n",
    "\n",
    "3. Interval : With the interval level of measurement we have quantitative data. Like the ordinal level, the interval level has an inherent order. But, unlike the ordinal level, we do have the distance between intervals on the scale. The interval level, however, lacks a real, non-arbitrary zero. Three characteristics of the interval level:\n",
    "The values have a meaningful order ; The distances between the ranks are measureable; There is no \"true\" or natural zero. Example: The classic example of the interval scale is temperature measured on the Fahrenheit or Celsius scales. Let's suppose today's high temperature is 60º F and thirty days ago the high temperature was only 30º F. We can say that the difference between the high temperatures on these two days is 30 degrees. But, because our measurement scale lacks a real, non-arbitrary zero, we cannot say the temperature today is twice as warm as the temperature thirty days ago. With the interval level of measurement, we can perform most arithmetic operations. We can calculate common statistical measures like the mean, median, variance, or standard deviation. But, because we lack a non-arbitrary zero, we cannot calculate proportions, ratios, percentages, and fractions.\n",
    "\n",
    "4. Ratio : The last and most sophisticated level of measurement is the ratio level. As with the ordinal and interval levels, the data have an inherent order. And, like the interval level, we can measure the intervals between the ranks with a measurable scale of values. But, unlike the interval level, we now have meaningful zero. The addition of a non-arbitrary zero allows use to calculate the numerical relationship between values using ratios: fractions, proportions, and percentages. An example of the ratio level of measurement is weight. A person who weights 150 pounds, weights twice as much as a person who weighs only 75 pounds and half as much as a person who weighs 300 pounds. We can calculate ratios like these because the scale for weight in pounds starts at zero pounds.\n"
   ]
  },
  {
   "cell_type": "markdown",
   "id": "ea2581e0-db1c-4388-a313-241655c5410a",
   "metadata": {},
   "source": [
    "### Q6. Why is it important to understand the level of measurement when analyzing data? Provide an example to illustrate your answer.\n",
    "\n",
    "Levels of measurement, also called scales of measurement, tell you how precisely variables are recorded. In scientific research, a variable is anything that can take on different values across your data set (e.g., height or test scores). The level at which you measure a variable determines how you can analyze your data.\n",
    "\n",
    "The different levels limit which descriptive statistics you can use to get an overall summary of your data, and which type of inferential statistics you can perform on your data to support or refute your hypothesis.\n",
    "\n",
    "In many cases, your variables can be measured at different levels, so you have to choose the level of measurement you will use before data collection begins.\n",
    "Example of a variable at 2 levels of measurement:\n",
    "You can measure the variable of income at an ordinal or ratio level.\n",
    "Ordinal level: You create brackets of income ranges: $0–$19,999, $20,000–$39,999, and $40,000–$59,999. You ask participants to select the bracket that represents their annual income. The brackets are coded with numbers from 1–3.\n",
    "Ratio level: You collect data on the exact annual incomes of your participants.\n",
    "At a ratio level, you can see that the difference between A and B’s incomes is far greater than the difference between B and C’s incomes.\n",
    "At an ordinal level, however, you only know the income bracket for each participant, not their exact income. Since you cannot say exactly how much each income differs from the others in your data set, you can only order the income levels and group the participants."
   ]
  },
  {
   "cell_type": "markdown",
   "id": "a7cfb5d7-4080-42fc-8dcd-7d47651278ff",
   "metadata": {},
   "source": [
    "### Q7. How nominal data type is different from ordinal data type.\n",
    "\n",
    "Nominal Level of Measurement: In nominal level of measurement, variables are differentiated by their namings. These variables have no order or hierarchy associated with them. Numbers associated with the names are mere tags with no mathematical aspect linked to them. These variables are descriptive in nature. In terms of statistics, nominal scale is the easiest to understand and implement. These variables have minimum two divisions such as Male/Female, Yes/No. Example: a person’s gender, ethnicity, hair color etc. are considered to be data for a nominal scale.\n",
    "\n",
    "Ordinal Scale, on the other hand, involves arranging information in a specific order, i.e. in comparison to one another and “rank” each parameter (variable). For example, after a customer shops from a retail outlet, he/she is asked to fill out a kiosk survey: “On a scale of 1-5, how was your shopping experience? :\n",
    "1 indicates extremely unsatisfactory, 2 is unsatisfactory, 3 is neutral, 4 is satisfactory and 5 indicates extremely satisfactory.\n",
    "Here, the data collected will be on an ordinal scale as there is a rank associated with each of the answer options, i.e. 2 is lower than 4 and 4 is lower than 5.\n",
    "But, in the ordinal scale, it is not mandatory for the difference between 4 (satisfactory) and 2 (unsatisfactory) to be the same as the difference between 5 (extremely satisfactory) and 3 (neutral), as the number is not assigned for quantitative measurement but is purely for tagging purposes."
   ]
  },
  {
   "cell_type": "markdown",
   "id": "befba8ec-1311-4a24-a3ef-7e742887ac34",
   "metadata": {},
   "source": [
    "### Q8. Which type of plot can be used to display data in terms of range?\n",
    "\n",
    "Different plots that can display data in range are :\n",
    "Box and whisker plot, Bullet graph, Candlestick chart , error bars, Gantt chart, violin plot, Open high-low close chart etc."
   ]
  },
  {
   "cell_type": "markdown",
   "id": "fb057eb4-38d2-449d-a5d3-0b5cbf23a1bc",
   "metadata": {},
   "source": [
    "### Q9. Describe the difference between descriptive and inferential statistics. Give an example of each type of statistics and explain how they are used.\n",
    "\n",
    "Descriptive statistics is the term given to the analysis of data that helps describe, show or summarize data in a meaningful way such that, for example, patterns might emerge from the data. Descriptive statistics do not, however, allow us to make conclusions beyond the data we have analysed or reach conclusions regarding any hypotheses we might have made. They are simply a way to describe our data.\n",
    "\n",
    "Descriptive statistics are very important because if we simply presented our raw data it would be hard to visualize what the data was showing, especially if there was a lot of it. Descriptive statistics therefore enables us to present the data in a more meaningful way, which allows simpler interpretation of the data.For example, we could calculate the mean and standard deviation of the exam marks for the 100 students and this could provide valuable information about this group of 100 students. Any group of data like this, which includes all the data you are interested in, is called a population. A population can be small or large, as long as it includes all the data you are interested in. For example, if you were only interested in the exam marks of 100 students, the 100 students would represent your population. Descriptive statistics are applied to populations, and the properties of populations, like the mean or standard deviation, are called parameters as they represent the whole population (i.e., everybody you are interested in).\n",
    "\n",
    "Inferential statistics involves drawing conclusions about populations by examining samples. It allows us to make inferences about the entire set, including specific examples within it, based on information obtained from a subset of examples. These inferences rely on the principles of evidence and utilize sample statistics as a basis for drawing broader conclusions. The accuracy of inferential statistics depends largely on the accuracy of sample data and how it represents the larger population. This can be effectively done by obtaining a random sample. For example, you might be interested in the exam marks of all students in the UK. It is not feasible to measure all exam marks of all students in the whole of the UK so you have to measure a smaller sample of students (e.g., 100 students), which are used to represent the larger population of all UK students."
   ]
  },
  {
   "cell_type": "markdown",
   "id": "7f7727e6-43d2-4f9a-b780-5b3c1acddfb1",
   "metadata": {},
   "source": [
    "### Q10. What are some common measures of central tendency and variability used in statistics? Explain how each measure can be used to describe a dataset.\n",
    "\n",
    "Measure of Central Tendency: The representative value of a data set, generally the central value or the most occurring value that gives a general idea of the whole data set is called the Measure of Central Tendency.\n",
    "\n",
    "Some of the most commonly used measures of central tendency are:\n",
    "\n",
    "Mean: Arithmetic mean is defined as the sum of the individual observations (xi) divided by the total number of observations N. In other words, the mean is given by the sum of all observations divided by the total number of observations.\n",
    "\n",
    "Median: The Median of any distribution is that value that divides the distribution into two equal parts such that the number of observations above it is equal to the number of observations below it. Thus, the median is called the central value of any given data either grouped or ungrouped.\n",
    "\n",
    "Mode: The Mode is the value of that observation which has a maximum frequency corresponding to it. In other, that observation of the data occurs the maximum number of times in a dataset.\n"
   ]
  },
  {
   "cell_type": "code",
   "execution_count": null,
   "id": "65a07b74-95c1-446a-a143-d88ae2f81a20",
   "metadata": {},
   "outputs": [],
   "source": []
  },
  {
   "cell_type": "code",
   "execution_count": null,
   "id": "a63ffa8c-2d2f-429b-bd47-7dddc5e7f98d",
   "metadata": {},
   "outputs": [],
   "source": []
  }
 ],
 "metadata": {
  "kernelspec": {
   "display_name": "Python 3 (ipykernel)",
   "language": "python",
   "name": "python3"
  },
  "language_info": {
   "codemirror_mode": {
    "name": "ipython",
    "version": 3
   },
   "file_extension": ".py",
   "mimetype": "text/x-python",
   "name": "python",
   "nbconvert_exporter": "python",
   "pygments_lexer": "ipython3",
   "version": "3.10.8"
  }
 },
 "nbformat": 4,
 "nbformat_minor": 5
}
