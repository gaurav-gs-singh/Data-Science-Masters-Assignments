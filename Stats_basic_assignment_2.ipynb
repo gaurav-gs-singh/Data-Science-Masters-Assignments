{
 "cells": [
  {
   "cell_type": "markdown",
   "id": "653225e3",
   "metadata": {},
   "source": [
    "### Q1. What are the three measures of central tendency?\n",
    "\n",
    "A measure of central tendency (also referred to as measures of centre or central location) is a summary measure that attempts to describe a whole set of data with a single value that represents the middle or centre of its distribution. As such, measures of central tendency are sometimes called measures of central location. They are also classed as summary statistics.\n",
    "\n",
    "1. Mean: The mean is the sum of the value of each observation in a dataset divided by the number of observations. This is also            known as the arithmetic average. \n",
    "\n",
    "   Looking at the retirement age distribution again: \n",
    "\n",
    "                                  54, 54, 54, 55, 56, 57, 57, 58, 58, 60, 60\n",
    "\n",
    "   The mean is calculated by adding together all the values (54+54+54+55+56+57+57+58+58+60+60 = 623) and dividing by the number    of observations (11) which equals 56.6 years.\n",
    "   \n",
    "   The mean has one main disadvantage: it is particularly susceptible to the influence of outliers. These are values that           are unusual compared to the rest of the data set by being especially small or large in numerical value.\n",
    "   \n",
    "   \n",
    "2. Median: The median is the middle value in distribution when the values are arranged in ascending or descending order.\n",
    "\n",
    "   The median divides the distribution in half (there are 50% of observations on either side of the median value). In a            distribution with an odd number of observations, the median value is the middle value. \n",
    "   The median is less affected by outliers and skewed data than the mean and is usually the preferred measure of central            tendency when the distribution is not symmetrical. \n",
    "\n",
    "   Looking at the retirement age distribution (which has 11 observations), the median is the middle value, which is 57 years:  \n",
    "\n",
    "                                 54, 54, 54, 55, 56, 57, 57, 58, 58, 60, 60 \n",
    "\n",
    "   When the distribution has an even number of observations, the median value is the mean of the two middle values.  In the        following distribution, the two middle values are 56 and 57, therefore the median equals 56.5 years: \n",
    "\n",
    "                               52, 54, 54, 54, 55, 56, 57, 57, 58, 58, 60, 60\n",
    "                               \n",
    "                               \n",
    "3. Mode: The mode is the most commonly occurring value in a distribution. The mode has an advantage over the median and the mean    as it can be found for both numerical and categorical (non-numerical) data.  \n",
    "\n",
    "    Consider this dataset showing the retirement age of 11 people, in whole years:\n",
    "\n",
    "                                54, 54, 54, 55, 56, 57, 57, 58, 58, 60, 60\n",
    "                                \n",
    "    The most commonly occurring value is 54, therefore the mode of this distribution is 54 years."
   ]
  },
  {
   "cell_type": "markdown",
   "id": "dda511c3",
   "metadata": {},
   "source": [
    "### Q2. What is the difference between the mean, median, and mode? How are they used to measure the  central tendency of a dataset?\n",
    "\n",
    "\n",
    "#### Mean\n",
    "The mean (or average) is the most popular and well known measure of central tendency. It can be used with both discrete and continuous data, although its use is most often with continuous data.\n",
    "\n",
    "The mean is equal to the sum of all the values in the data set divided by the number of values in the data set.\n",
    "An important property of the mean is that it includes every value in your data set as part of the calculation. In addition, the mean is the only measure of central tendency where the sum of the deviations of each value from the mean is always zero.\n",
    "\n",
    "The mean has one main disadvantage: it is particularly susceptible to the influence of outliers. These are values that are unusual compared to the rest of the data set by being especially small or large in numerical value.\n",
    "\n",
    "we usually prefer the median over the mean (or mode) is when our data is skewed (i.e., the frequency distribution for our data is skewed). If we consider the normal distribution - as this is the most frequently assessed in statistics - when the data is perfectly normal, the mean, median and mode are identical. Moreover, they all represent the most typical value in the data set. However, as the data becomes skewed the mean loses its ability to provide the best central location for the data because the skewed data is dragging it away from the typical value. However, the median best retains this position and is not as strongly influenced by the skewed values. \n",
    "\n",
    "Example: If there are 5 observations, which are 27, 11, 17, 19, and 21 then the mean is given by : \n",
    "                            (27 + 11 + 17 + 19 + 21) ÷ 5 = 19\n",
    "\n",
    "\n",
    "#### Median\n",
    "\n",
    "The median is the middle score for a set of data that has been arranged in order of magnitude. \n",
    "\n",
    "The median is less affected by outliers and skewed data.\n",
    "\n",
    "Median is used over mean for finding central location when the distribution is not a normal distrbution and the data is right or left skewed.\n",
    "\n",
    "Example : If the observations are 25, 36, 31, 23, 22, 26, 38, 28, 20, 32 then the Median is given by :\n",
    "          Arranging the data in ascending order: 20, 22, 23, 25, 26, 28, 31, 32, 36, 38\n",
    "\n",
    "          N = 10 which is even then\n",
    "\n",
    "          Median = Arithmetic mean of values at (10 ÷ 2)th and [(10 ÷ 2) + 1]th position\n",
    "\n",
    "          ⇒ Median = (Value at 5th position + Value at 6th position) ÷ 2\n",
    "\n",
    "          ⇒ Median = (26 + 28) ÷ 2\n",
    "\n",
    "          ⇒ Median = 27\n",
    "\n",
    "### Mode\n",
    "\n",
    "The mode is the most frequent score in our data set. On a histogram it represents the highest bar in a bar chart or histogram.\n",
    "\n",
    "Normally, the mode is used for categorical data where we wish to know which is the most common category.\n",
    "\n",
    "one of the problems with the mode is that it is not unique, so it leaves us with problems when we have two or more values that share the highest frequency.\n",
    "\n",
    "Another problem with the mode is that it will not provide us with a very good measure of central tendency when the most common mark is far away from the rest of the data in the data set.\n",
    "\n",
    "Example: Find the mode of observations 5, 3, 4, 3, 7, 3, 5, 4, 3.\n",
    "         Since 3 has occurred a maximum number of times i.e. 4 times in the given data;\n",
    "         Hence, Mode of the given ungrouped data is 3."
   ]
  },
  {
   "cell_type": "markdown",
   "id": "e4b0c704",
   "metadata": {},
   "source": [
    "#### Q3. Measure the three measures of central tendency for the given height data:\n",
    "\n",
    " [178,177,176,177,178.2,178,175,179,180,175,178.9,176.2,177,172.5,178,176.5]"
   ]
  },
  {
   "cell_type": "code",
   "execution_count": 2,
   "id": "f7b6db4c",
   "metadata": {},
   "outputs": [],
   "source": [
    "import numpy as np\n",
    "from scipy import stats"
   ]
  },
  {
   "cell_type": "code",
   "execution_count": 3,
   "id": "1423b084",
   "metadata": {},
   "outputs": [],
   "source": [
    "height = [178,177,176,177,178.2,178,175,179,180,175,178.9,176.2,177,172.5,178,176.5]"
   ]
  },
  {
   "cell_type": "code",
   "execution_count": 4,
   "id": "c3d0b2a0",
   "metadata": {},
   "outputs": [
    {
     "data": {
      "text/plain": [
       "177.01875"
      ]
     },
     "execution_count": 4,
     "metadata": {},
     "output_type": "execute_result"
    }
   ],
   "source": [
    "np.mean(height)"
   ]
  },
  {
   "cell_type": "code",
   "execution_count": 5,
   "id": "c59baff0",
   "metadata": {},
   "outputs": [
    {
     "data": {
      "text/plain": [
       "177.0"
      ]
     },
     "execution_count": 5,
     "metadata": {},
     "output_type": "execute_result"
    }
   ],
   "source": [
    "np.median(height)"
   ]
  },
  {
   "cell_type": "code",
   "execution_count": 6,
   "id": "4417278a",
   "metadata": {},
   "outputs": [
    {
     "name": "stderr",
     "output_type": "stream",
     "text": [
      "C:\\Users\\Gaurav\\AppData\\Local\\Temp\\ipykernel_29776\\1690947930.py:1: FutureWarning: Unlike other reduction functions (e.g. `skew`, `kurtosis`), the default behavior of `mode` typically preserves the axis it acts along. In SciPy 1.11.0, this behavior will change: the default value of `keepdims` will become False, the `axis` over which the statistic is taken will be eliminated, and the value None will no longer be accepted. Set `keepdims` to True or False to avoid this warning.\n",
      "  stats.mode(height)\n"
     ]
    },
    {
     "data": {
      "text/plain": [
       "ModeResult(mode=array([177.]), count=array([3]))"
      ]
     },
     "execution_count": 6,
     "metadata": {},
     "output_type": "execute_result"
    }
   ],
   "source": [
    "stats.mode(height)"
   ]
  },
  {
   "cell_type": "markdown",
   "id": "8e002d2c",
   "metadata": {},
   "source": [
    "### Q4. Find the standard deviation for the given data:\n",
    "\n",
    "[178,177,176,177,178.2,178,175,179,180,175,178.9,176.2,177,172.5,178,176.5]"
   ]
  },
  {
   "cell_type": "code",
   "execution_count": 8,
   "id": "fa078bc7",
   "metadata": {},
   "outputs": [],
   "source": [
    "data = [178,177,176,177,178.2,178,175,179,180,175,178.9,176.2,177,172.5,178,176.5]"
   ]
  },
  {
   "cell_type": "code",
   "execution_count": 10,
   "id": "82c59348",
   "metadata": {},
   "outputs": [
    {
     "data": {
      "text/plain": [
       "1.7885814036548633"
      ]
     },
     "execution_count": 10,
     "metadata": {},
     "output_type": "execute_result"
    }
   ],
   "source": [
    "np.std(data)"
   ]
  },
  {
   "cell_type": "markdown",
   "id": "fc9f49b8",
   "metadata": {},
   "source": [
    "### Q5. How are measures of dispersion such as range, variance, and standard deviation used to describe the spread of a dataset? Provide an example.\n",
    "\n",
    "Measures of spread describe how similar or varied the set of observed values are for a particular variable (data item). When we discuss measures of spread, we are considering numeric values that are associated with how far our points are from one another. Measures of spread summarise the data in a way that shows how scattered the values are and how much they differ from the mean value. The spread of the values can be measured for quantitative data, as the variables are numeric and can be arranged into a logical order with a low end value and a high end value.\n",
    "\n",
    "Measures of spread include the range, quartiles and the interquartile range, variance and standard deviation.\n",
    "\n",
    "One of the most common ways to measure the spread of our data is to calculate the Five Number Summary, which consists of:\n",
    "\n",
    "##### Minimum: The smallest number in the dataset.\n",
    "##### First Quartile: The value such that 25% of the data falls below.\n",
    "##### Second Quartile: The value such that 50% of the data falls below, i.e., Median\n",
    "##### Third Quartile: The value such that 75% of the data falls below.\n",
    "##### Maximum: The largest value in the dataset.\n",
    "\n",
    "The 5 Number Summary gives us values for calculating the range and interquartile range.\n",
    "\n",
    "Consider the following data-set:\n",
    "\n",
    "5, 8, 3, 2, 1, 3, 10\n",
    "\n",
    "To calculate the Five Number Summary, the first thing we need to do is order our values, which gives us\n",
    "\n",
    "1, 2, 3, 3, 5, 8, 10\n",
    "\n",
    "Once ordered, the minimum and maximum values are easy to identify. As we know, the median is the middle value in our dataset. We also call this Q2 or the second quartile because 50% of the data falls below this value. The remaining two values left to be calculated are Q1 and Q3. These values can be thought of as the medians of the data on either side of Q2. So in this case, as the median is 3, the median of values to the left of Q2 will give us the value of Q1 (2) and the median of values to the right of Q2 will give us the value of Q3 (8).\n",
    "\n",
    "If the data-set has an even number of values, the value of Q2 (median), will be the mean of the middle 2 values. The value of Q1 will be the median of all values to the left of calculated Q2 and the value of Q3 will be the median of all values to the right of calculated Q2.\n",
    "\n",
    "Range = Maximum — Minimum = 10–1 = 9\n",
    "Interquartile Range = Q3 — Q1 = 8–2 = 6\n",
    "\n",
    "##### Standard deviation\n",
    "The most common way that professionals measure the spread of a data-set with a single value is with the Standard Deviation or Variance. The Standard Deviation tells us on average how far every data point is from the mean of the points.\n",
    "\n",
    "Example: We wanted to know how far students were located from their school. One student might be 15 km, another 35km, another only 1 km and another might be living 60 km from the school. We could aggregate all of these distances together to show that the average distance (mean) between students and the school is 27.75 km. The Standard Deviation is how far, on average, these students are located from the mean distance.\n",
    "\n",
    "(10–10)² = 0\n",
    "(14–10)² = 16\n",
    "(10–10)² = 0\n",
    "(6–10)² = 16\n",
    "\n",
    "The average of these values will give us the average squared distance of each observation from the mean, also known as the Variance. Variance = (0 + 16 + 0 + 16)/4 = 32/4 = 8\n",
    "\n",
    "Standard Deviation = √8 = 2.83\n",
    "\n"
   ]
  },
  {
   "cell_type": "markdown",
   "id": "21c16e57",
   "metadata": {},
   "source": [
    "### Q6. What is a Venn diagram?\n",
    "\n",
    "A Venn diagram uses overlapping circles or other shapes to illustrate the logical relationships between two or more sets of items. Often, they serve to graphically organize things, highlighting how the items are similar and different."
   ]
  },
  {
   "cell_type": "markdown",
   "id": "15dc0b67",
   "metadata": {},
   "source": [
    "### Q7. For the two given sets A = (2,3,4,5,6,7) & B = (0,2,6,8,10). Find:\n",
    "\n",
    "(i) \tA ⋂ B\n",
    "\n",
    "(ii)\tA ⋃ B\n",
    "\n",
    "A ⋂ B : (2,6)\n",
    "\n",
    "A ⋃ B : (0,2,3,4,5,6,7,8,10)"
   ]
  },
  {
   "cell_type": "markdown",
   "id": "41294e38",
   "metadata": {},
   "source": [
    "### Q8. What do you understand about skewness in data?\n",
    "\n",
    "Skewness is a measurement of the distortion of symmetrical distribution or asymmetry in a data set. Skewness is demonstrated on a bell curve when data points are not distributed symmetrically to the left and right sides of the median on a bell curve. If the bell curve is shifted to the left or the right, it is said to be skewed. Skewness can be quantified as a representation of the extent to which a given distribution varies from a normal distribution. \n",
    "\n",
    "The two most common types of skew are:\n",
    "\n",
    "Negative skew:  A data set with a negative skew has a tail on the negative side of the graph, meaning the graph is skewed to the left.\n",
    "\n",
    "Positive skew: A data set with a positive skew has a tail on the positive side of the graph, meaning the graph is skewed to the right."
   ]
  },
  {
   "cell_type": "markdown",
   "id": "aa7b0ab7",
   "metadata": {},
   "source": [
    "###  Q9. If a data is right skewed then what will be the position of median with respect to mean?\n",
    "\n",
    "A right-skewed distribution has a long right tail. Right-skewed distributions are also called positive-skew distributions. That’s because there is a long tail in the positive direction on the number line. The mean is also to the right of the peak.\n",
    "if the data is right skewed, then the mean will shift towards right, reason might be an outlier. \n",
    "A right-skewed distribution will have the mean to the right of the median.\n",
    "\n",
    "Mean > Median > Mode"
   ]
  },
  {
   "cell_type": "markdown",
   "id": "83d2b8f9",
   "metadata": {},
   "source": [
    "### Q10. Explain the difference between covariance and correlation. How are these measures used in statistical analysis?\n",
    "\n",
    "##### Covariance: \n",
    "* In the study of covariance only sign matters. A positive value shows that both variables vary in the same direction and negative value shows that they vary in the opposite direction. \n",
    "\n",
    "* The numerical value of covariance does not have any significance however if it is positive then both variables vary in the same direction else if it is negative then they vary in the opposite direction.\n",
    "\n",
    "##### Correlation: \n",
    "* As covariance only tells about the direction which is not enough to understand the relationship completely, we divide the covariance with a standard deviation of x and y respectively and get correlation coefficient which varies between -1 to +1.\n",
    "\n",
    "* 1 and +1 tell that both variables have a perfect linear relationship.\n",
    "\n",
    "* Negative means they are inversely proportional to each other with the factor of correlation coefficient value.\n",
    "\n",
    "* Positive means they are directly proportional to each other mean vary in the same direction with the factor of correlation coefficient value.\n",
    "\n",
    "* if the correlation coefficient is 0 then it means there is no linear relationship between variables however there could exist other functional relationship.if there is no relationship at all between two variables then correlation coefficient will certainly be 0 however if it is 0 then we can only say that there is no linear relationship but there could exist other functional relationship.\n",
    "\n",
    "\n",
    "\n",
    "\n",
    "\n",
    "\n",
    "\n"
   ]
  },
  {
   "cell_type": "markdown",
   "id": "21b73973",
   "metadata": {},
   "source": [
    "### Q11. What is the formula for calculating the sample mean? Provide an example calculation for a dataset.\n",
    "\n",
    "The sample mean is an average value found in a sample.The sample mean can be used to calculate the central tendency, standard deviation and the variance of a data set. The sample mean can be applied to a variety of uses, including calculating population averages. \n",
    "\n",
    "Calculating sample mean is as simple as adding up the number of items in a sample set and then dividing that sum by the number of items in the sample set. To calculate the sample mean through spreadsheet software and calculators, you can use the formula:\n",
    "\n",
    "x̄ = ( Σ xi ) / n\n",
    "\n",
    "Here, x̄ represents the sample mean, Σ tells us to add, xi refers to all the X-values and n stands for the number of items in the data set.\n",
    "\n",
    "Example : Find the sample mean for the following set of numbers: 12, 13, 14, 16, 17, 40, 43, 55, 56, 67, 78, 78, 79, 80, 81, 90, 99, 101, 102, 304, 306, 400, 401, 403, 404, 405.\n",
    "\n",
    "Total numbers in set (n) = 26\n",
    "\n",
    "sum of all numbers: 12 + 13 + 14 + 16 + 17 + 40 + 43 + 55 + 56 + 67 + 78 + 78 + 79 + 80 + 81 + 90 + 99 + 101 + 102 + 304 + 306 + 400 + 401 + 403 + 404 + 405 = 3744.\n",
    "\n",
    "x = ( Σ xi ) / n\n",
    "= 3744/26\n",
    "= 144"
   ]
  },
  {
   "cell_type": "code",
   "execution_count": 12,
   "id": "f30b04f4",
   "metadata": {},
   "outputs": [
    {
     "data": {
      "text/plain": [
       "144.0"
      ]
     },
     "execution_count": 12,
     "metadata": {},
     "output_type": "execute_result"
    }
   ],
   "source": [
    "import numpy as np\n",
    "\n",
    "data = [12, 13, 14, 16, 17, 40, 43, 55, 56, 67, 78, 78, 79, 80, 81, 90, 99, 101, 102, 304, 306, 400, 401, 403, 404, 405]\n",
    "np.mean(data)"
   ]
  },
  {
   "cell_type": "markdown",
   "id": "3a4fe26e",
   "metadata": {},
   "source": [
    "### Q12. For a normal distribution data what is the relationship between its measure of central tendency?\n",
    "\n",
    "In normal distribution, all the three measure of central tendency lies on the same point at the center. \n",
    "\n",
    "We can use both the mean or the median as your measure of central tendency. In fact, in any symmetrical distribution the mean, median and mode are equal. However, in this situation, the mean is widely preferred as the best measure of central tendency because it is the measure that includes all the values in the data set for its calculation, and any change in any of the scores will affect the value of the mean. This is not the case with the median or mode."
   ]
  },
  {
   "cell_type": "markdown",
   "id": "7154713c",
   "metadata": {},
   "source": [
    "### Q13. How is covariance different from correlation?\n",
    "\n",
    "* Covariance reveals how two variables change together while correlation determines how closely two variables are related to each other.\n",
    "* Covariance indicates the direction of the linear relationship between variables. Correlation measures both the strength and direction of the linear relationship between two variables.\n",
    "* Correlation values are standardized. Covariance values are not standardized.\n",
    "* While correlation coefficients lie between -1 and +1, covariance can take any value between -∞ and +∞."
   ]
  },
  {
   "cell_type": "markdown",
   "id": "8f3ca64c",
   "metadata": {},
   "source": [
    "### Q14. How do outliers affect measures of central tendency and dispersion? Provide an example.\n",
    "\n",
    "Outliers are data points that are far from other data points. In other words, they’re unusual values in a dataset. Outliers are problematic for many statistical analyses because they can cause tests to either miss significant findings or distort real results.\n",
    "\n",
    "In statistics, outliers cause the mean to increase, but if we have outliers to the left of the graph these outliers are dragging down the mean. This causes a conflict because the mean no longer provides a good representation of the data, alternatively we would much rather use the median. The median on the other hand is less likely to be affected by outliers.\n",
    "\n",
    "In the example below one unusual score of a student has large impact on the mean for the entire dataset.\n",
    "\n",
    "The range (the difference between the maximum and minimum values) is the simplest measure of spread. But if there is an outlier in the data, it will be the minimum or maximum value. Thus, the range is not robust to outliers. Neither the standard deviation nor the variance is robust to outliers. A data value that is separate from the body of the data can increase the value of the statistics by an arbitrarily large amount.\n",
    "\n",
    "The interquartile range (IQR) is the difference between the 75th and 25th percentile of the data. Since only the middle 50% of the data affects this measure, it is robust to outliers."
   ]
  },
  {
   "cell_type": "code",
   "execution_count": 13,
   "id": "0d845e84",
   "metadata": {},
   "outputs": [],
   "source": [
    "import numpy as np"
   ]
  },
  {
   "cell_type": "code",
   "execution_count": 15,
   "id": "32b0e210",
   "metadata": {},
   "outputs": [
    {
     "data": {
      "text/plain": [
       "84.6"
      ]
     },
     "execution_count": 15,
     "metadata": {},
     "output_type": "execute_result"
    }
   ],
   "source": [
    "# student's score\n",
    "score = [0,88,90,92,94,95,95,96,97,99]\n",
    "np.mean(score)"
   ]
  },
  {
   "cell_type": "code",
   "execution_count": 16,
   "id": "e03484a8",
   "metadata": {},
   "outputs": [
    {
     "data": {
      "text/plain": [
       "94.0"
      ]
     },
     "execution_count": 16,
     "metadata": {},
     "output_type": "execute_result"
    }
   ],
   "source": [
    "#Removing the outlier : 0\n",
    "\n",
    "score = [88,90,92,94,95,95,96,97,99]\n",
    "np.mean(score)"
   ]
  },
  {
   "cell_type": "code",
   "execution_count": null,
   "id": "6ae4f8f9",
   "metadata": {},
   "outputs": [],
   "source": []
  }
 ],
 "metadata": {
  "kernelspec": {
   "display_name": "Python 3 (ipykernel)",
   "language": "python",
   "name": "python3"
  },
  "language_info": {
   "codemirror_mode": {
    "name": "ipython",
    "version": 3
   },
   "file_extension": ".py",
   "mimetype": "text/x-python",
   "name": "python",
   "nbconvert_exporter": "python",
   "pygments_lexer": "ipython3",
   "version": "3.9.13"
  }
 },
 "nbformat": 4,
 "nbformat_minor": 5
}
