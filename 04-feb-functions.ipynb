{
 "cells": [
  {
   "cell_type": "markdown",
   "id": "ff935062-9468-4a0c-b19b-e4078810f129",
   "metadata": {},
   "source": [
    "## Q1. Create a python program to sort the given list of tuples based on integer value using a  lambda function.  \n",
    "[('Sachin Tendulkar', 34357), ('Ricky Ponting', 27483), ('Jack Kallis', 25534), ('Virat Kohli', 24936)] \n"
   ]
  },
  {
   "cell_type": "code",
   "execution_count": 4,
   "id": "c2b27c66-dab5-465e-a82e-4003f7d9ba72",
   "metadata": {},
   "outputs": [
    {
     "name": "stdout",
     "output_type": "stream",
     "text": [
      "[('Virat Kohli', 24936), ('Jack Kallis', 25534), ('Ricky Ponting', 27483), ('Sachin Tendulkar', 34357)]\n"
     ]
    }
   ],
   "source": [
    "list1 = [('Sachin Tendulkar', 34357), ('Ricky Ponting', 27483), ('Jack Kallis', 25534), ('Virat Kohli', 24936)] \n",
    "\n",
    "sort_score = sorted(list1, key = lambda x: x[1])\n",
    "print(sort_score)\n"
   ]
  },
  {
   "cell_type": "markdown",
   "id": "136ab1ad-0f36-4780-a1bf-995196caa112",
   "metadata": {},
   "source": [
    "## Q2. Write a Python Program to find the squares of all the numbers in the given list of integers using  lambda and map functions. \n",
    "[1, 2, 3, 4, 5, 6, 7, 8, 9, 10] \n"
   ]
  },
  {
   "cell_type": "code",
   "execution_count": 82,
   "id": "bdcb261e-ed35-40bb-8c26-be58cf59dd15",
   "metadata": {},
   "outputs": [
    {
     "name": "stdout",
     "output_type": "stream",
     "text": [
      "[1, 4, 9, 16, 25, 36, 49, 64, 81, 100]\n"
     ]
    }
   ],
   "source": [
    "# using lambda function\n",
    "x = [1,2,3,4,5,6,7,8,9,10]\n",
    "sq_num = lambda x: (i**2 for i in x)\n",
    "print(list(sq_num(x)))"
   ]
  },
  {
   "cell_type": "code",
   "execution_count": 16,
   "id": "6505f30e-3477-4a85-96b5-36ff71a9583c",
   "metadata": {},
   "outputs": [
    {
     "data": {
      "text/plain": [
       "[1, 4, 9, 16, 25, 36, 49, 64, 81, 100]"
      ]
     },
     "execution_count": 16,
     "metadata": {},
     "output_type": "execute_result"
    }
   ],
   "source": [
    "# using map() function\n",
    "l = [1,2,3,4,5,6,7,8,9,10]\n",
    "sq_num =list( map(lambda x: x**2, l))\n",
    "sq_num"
   ]
  },
  {
   "cell_type": "markdown",
   "id": "4f2b3fd7-15df-4bee-b496-36ccdc7ab46e",
   "metadata": {},
   "source": [
    "## Q3. Write a python program to convert the given list of integers into a tuple of strings. Use map and  lambda functions \n",
    "Given String: [1, 2, 3, 4, 5, 6, 7, 8, 9, 10] \n",
    "\n",
    "Expected output: ('1', '2', '3', '4', '5', '6', '7', '8', '9', '10') \n"
   ]
  },
  {
   "cell_type": "code",
   "execution_count": 1,
   "id": "24a5f855-046b-445c-a5d2-98f1593b4135",
   "metadata": {},
   "outputs": [
    {
     "name": "stdout",
     "output_type": "stream",
     "text": [
      "('1', '2', '3', '4', '5', '6', '7', '8', '9', '10')\n"
     ]
    }
   ],
   "source": [
    "# using map function\n",
    "\n",
    "x =[1,2,3,4,5,6,7,8,9,10]\n",
    "a = list(map(str,x))\n",
    "print(tuple(a))"
   ]
  },
  {
   "cell_type": "code",
   "execution_count": 17,
   "id": "f8f6b57a-75e9-40b5-b286-06b62d1f21f0",
   "metadata": {},
   "outputs": [
    {
     "name": "stdout",
     "output_type": "stream",
     "text": [
      "('1', '2', '3', '4', '5', '6', '7', '8', '9', '10')\n"
     ]
    }
   ],
   "source": [
    "# using lambda function\n",
    "num1 = [1,2,3,4,5,6,7,8,9,10]\n",
    "str1 = lambda x : (str(i) for i in x)\n",
    "print(tuple(str1(num1)))\n"
   ]
  },
  {
   "cell_type": "markdown",
   "id": "8f2a6a99-a016-4d19-8df4-41ce5c8ddb5f",
   "metadata": {},
   "source": [
    "## Q4.  Write a python program using reduce function to compute the product of a list containing numbers  from 1 to 25. "
   ]
  },
  {
   "cell_type": "code",
   "execution_count": 2,
   "id": "d277ad7d-0495-4ad4-9791-3f2ba4abc6ed",
   "metadata": {},
   "outputs": [],
   "source": [
    "from functools import reduce"
   ]
  },
  {
   "cell_type": "code",
   "execution_count": 43,
   "id": "a4caae03-ad4f-4872-88b3-5a9c2ca8f974",
   "metadata": {},
   "outputs": [
    {
     "data": {
      "text/plain": [
       "15511210043330985984000000"
      ]
     },
     "execution_count": 43,
     "metadata": {},
     "output_type": "execute_result"
    }
   ],
   "source": [
    "a = [1,2,3,4,5,6,7,8,9,10,11,12,13,14,15,16,17,18,19,20,21,22,23,24,25]\n",
    "reduce(lambda x,y : x*y , a)\n",
    "\n"
   ]
  },
  {
   "cell_type": "markdown",
   "id": "b9c194e5-17f8-4b02-9de8-4eb45ea93bf6",
   "metadata": {},
   "source": [
    "## Q5. Write a python program to filter the numbers in a given list that are divisible by 2 and 3 using the  filter function. \n",
    "[2, 3, 6, 9, 27, 60, 90, 120, 55, 46] \n"
   ]
  },
  {
   "cell_type": "code",
   "execution_count": 46,
   "id": "77d6b9c5-21be-4d25-a64a-30bdce041986",
   "metadata": {},
   "outputs": [
    {
     "name": "stdout",
     "output_type": "stream",
     "text": [
      "[6, 60, 90, 120]\n"
     ]
    }
   ],
   "source": [
    "lst1 = [2, 3, 6, 9, 27, 60, 90, 120, 55, 46] \n",
    "x = list(filter (lambda x: x%2 == 0 and x%3 == 0 , lst1))\n",
    "print(x)"
   ]
  },
  {
   "cell_type": "markdown",
   "id": "4dba70ec-6329-4244-a039-e1098700d687",
   "metadata": {},
   "source": [
    "## Q6. Write a python program to find palindromes in the given list of strings using lambda and filter  function. \n",
    "['python', 'php', 'aba', 'radar', 'level'] \n"
   ]
  },
  {
   "cell_type": "code",
   "execution_count": 8,
   "id": "c56f3fc7-ec0d-4093-b6fc-0fbaa2c86619",
   "metadata": {},
   "outputs": [],
   "source": [
    "a = ['python', 'php', 'aba', 'radar', 'level'] "
   ]
  },
  {
   "cell_type": "code",
   "execution_count": 23,
   "id": "550a59f2-1c89-4745-9a20-d76f63285fdb",
   "metadata": {},
   "outputs": [
    {
     "data": {
      "text/plain": [
       "['php', 'aba', 'radar', 'level']"
      ]
     },
     "execution_count": 23,
     "metadata": {},
     "output_type": "execute_result"
    }
   ],
   "source": [
    "# using lambda function\n",
    "rev1 = lambda x:( i[::-1] for i in x if i[::-1] == i )\n",
    "list(rev1(a))"
   ]
  },
  {
   "cell_type": "code",
   "execution_count": 12,
   "id": "e69f7c81-7920-46dd-a198-fe309eaaa07e",
   "metadata": {},
   "outputs": [
    {
     "data": {
      "text/plain": [
       "['php', 'aba', 'radar', 'level']"
      ]
     },
     "execution_count": 12,
     "metadata": {},
     "output_type": "execute_result"
    }
   ],
   "source": [
    "# using filter fucntion\n",
    "palin = filter (lambda x: (x[::-1] == x ), a)\n",
    "list(palin)\n"
   ]
  },
  {
   "cell_type": "code",
   "execution_count": null,
   "id": "b6d8f8de-a48c-40aa-991c-9610a5b0019f",
   "metadata": {},
   "outputs": [],
   "source": []
  },
  {
   "cell_type": "code",
   "execution_count": null,
   "id": "b3848eaa-b0ca-4ffb-a6d6-918537ad70c8",
   "metadata": {},
   "outputs": [],
   "source": []
  },
  {
   "cell_type": "code",
   "execution_count": null,
   "id": "27fb2e82-34a7-41a2-8c79-b5b3892bf731",
   "metadata": {},
   "outputs": [],
   "source": []
  },
  {
   "cell_type": "code",
   "execution_count": null,
   "id": "be072577-cb88-4411-8f2c-e8a70030646d",
   "metadata": {},
   "outputs": [],
   "source": []
  },
  {
   "cell_type": "code",
   "execution_count": null,
   "id": "0f7cb26c-819d-41bb-b004-0b757873d94c",
   "metadata": {},
   "outputs": [],
   "source": []
  },
  {
   "cell_type": "code",
   "execution_count": null,
   "id": "d0a5ec3b-c24d-4da8-83b9-f3742eb53d04",
   "metadata": {},
   "outputs": [],
   "source": []
  },
  {
   "cell_type": "code",
   "execution_count": null,
   "id": "6896c24f-ab86-46cf-8736-7368eb06936d",
   "metadata": {},
   "outputs": [],
   "source": []
  }
 ],
 "metadata": {
  "kernelspec": {
   "display_name": "Python 3 (ipykernel)",
   "language": "python",
   "name": "python3"
  },
  "language_info": {
   "codemirror_mode": {
    "name": "ipython",
    "version": 3
   },
   "file_extension": ".py",
   "mimetype": "text/x-python",
   "name": "python",
   "nbconvert_exporter": "python",
   "pygments_lexer": "ipython3",
   "version": "3.10.8"
  }
 },
 "nbformat": 4,
 "nbformat_minor": 5
}
