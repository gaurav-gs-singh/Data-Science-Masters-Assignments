{
 "cells": [
  {
   "cell_type": "markdown",
   "id": "c5c9065b-184c-4121-8f62-d9030006cb2a",
   "metadata": {},
   "source": [
    "### Q1. You are writing code for a company. The requirement of the company is that you create a python  function that will check whether the password entered by the user is correct or not. The function should  take the password as input and return the string “Valid Password” if the entered password follows the  below-given password guidelines else it should return “Invalid Password”. \n",
    "Note: 1. The Password should contain at least two uppercase letters and at least two lowercase letters. 2. The Password should contain at least a number and three special characters. \n",
    "3. The length of the password should be 10 characters long. \n"
   ]
  },
  {
   "cell_type": "code",
   "execution_count": 6,
   "id": "490d54f3-ae9a-40df-ba72-995b9009a8c7",
   "metadata": {},
   "outputs": [
    {
     "name": "stdin",
     "output_type": "stream",
     "text": [
      "enter your password:  QWerYU@#$%129\n"
     ]
    }
   ],
   "source": [
    "Password = input(\"enter your password: \")\n",
    "def Password_verification (x):\n",
    "    ucase_char = 0\n",
    "    lowcase_char = 0\n",
    "    int_char = 0\n",
    "    spec_char = 0\n",
    "         \n",
    "    if len(x) < 10:\n",
    "        print(\"invalid password\")\n",
    "    elif len(x) >=10 :\n",
    "\n",
    "            for i in x:\n",
    "                if not  (i.isalpha() or i.isnumeric() or i == \" \" ):\n",
    "                    spec_char += 1\n",
    "                elif i.isupper():\n",
    "                    ucase_char = ucase_char +1\n",
    "                elif i.islower():\n",
    "                    lowcase_char = lowcase_char +1                   \n",
    "                elif i.isnumeric():\n",
    "                    int_char += 1           \n",
    "           \n",
    "              \n",
    "            if spec_char < 3:\n",
    "                print(\"invalid password\")\n",
    "            elif ucase_char <2 :\n",
    "                print(\"invalid password\")\n",
    "            elif lowcase_char <2 :\n",
    "                print(\"invalid password\")\n",
    "            elif int_char <1 :\n",
    "                print(\"invalid password\")\n",
    "            else:\n",
    "                print(\"valid password\")\n",
    "    \n",
    "    \n",
    "    \n",
    "        \n"
   ]
  },
  {
   "cell_type": "code",
   "execution_count": 7,
   "id": "eedbd37a-c616-473c-b2fd-be563c5da827",
   "metadata": {},
   "outputs": [
    {
     "name": "stdout",
     "output_type": "stream",
     "text": [
      "valid password\n"
     ]
    }
   ],
   "source": [
    "Password_verification(Password)"
   ]
  },
  {
   "cell_type": "markdown",
   "id": "17df4700-8406-4673-a8ce-ad5c526509aa",
   "metadata": {},
   "source": [
    "### Q2. Solve the below-given questions using at least one of the following:  \n",
    "1. Lambda function\n",
    "2. Filter function\n",
    "3. Map function\n",
    "4. List Comprehension\n",
    "\n"
   ]
  },
  {
   "cell_type": "markdown",
   "id": "b2cd3ab2-4fb9-4859-9175-3566fec7495a",
   "metadata": {},
   "source": [
    "##### Check if the string starts with a particular letter"
   ]
  },
  {
   "cell_type": "code",
   "execution_count": 21,
   "id": "bfdcb05b-8dae-44da-81c2-f44ad119f300",
   "metadata": {},
   "outputs": [
    {
     "name": "stdin",
     "output_type": "stream",
     "text": [
      "enter the string:  mango\n",
      "enter the letter to check:  M\n"
     ]
    },
    {
     "data": {
      "text/plain": [
       "True"
      ]
     },
     "execution_count": 21,
     "metadata": {},
     "output_type": "execute_result"
    }
   ],
   "source": [
    "str1 = (input(\"enter the string: \")).lower()\n",
    "letter = (input (\"enter the letter to check: \")).lower()\n",
    "\n",
    "cond = lambda x: True if (x[0] == letter)  else False\n",
    "cond(str1)"
   ]
  },
  {
   "cell_type": "markdown",
   "id": "ef4b9777-2220-48e4-a4ec-09b2c5b1b4b0",
   "metadata": {},
   "source": [
    "##### Check if the string is numeric"
   ]
  },
  {
   "cell_type": "code",
   "execution_count": 26,
   "id": "84c36447-6301-42bb-8f97-169bb12c124b",
   "metadata": {},
   "outputs": [
    {
     "name": "stdout",
     "output_type": "stream",
     "text": [
      "False\n",
      "True\n"
     ]
    }
   ],
   "source": [
    "inp1 = lambda x: True if (type(x) == int) else False\n",
    "print(inp1('mango'))\n",
    "print(inp1(123))\n"
   ]
  },
  {
   "cell_type": "markdown",
   "id": "a9598a74-f2d5-4fb0-9386-41f9cac73f0e",
   "metadata": {},
   "source": [
    "##### Sort a list of tuples having fruit names and their quantity. [(\"mango\",99),(\"orange\",80), (\"grapes\", 1000)]\n"
   ]
  },
  {
   "cell_type": "code",
   "execution_count": 26,
   "id": "231caa70-ce99-4b52-8419-05d5085d6216",
   "metadata": {},
   "outputs": [
    {
     "name": "stdout",
     "output_type": "stream",
     "text": [
      "[('grapes', 1000), ('mango', 99), ('orange', 80)]\n"
     ]
    }
   ],
   "source": [
    "list1 =  [(\"mango\",99),(\"orange\",80), (\"grapes\", 1000)]\n",
    "def func(x):\n",
    "    return x[1]\n",
    "a =list1.sort(key = func, reverse = True)\n",
    "print(list1)"
   ]
  },
  {
   "cell_type": "code",
   "execution_count": 1,
   "id": "bf37a711-e5f7-46cd-ab91-a30c21a9a174",
   "metadata": {},
   "outputs": [
    {
     "name": "stdout",
     "output_type": "stream",
     "text": [
      "[('grapes', 1000), ('mango', 99), ('orange', 80)]\n"
     ]
    }
   ],
   "source": [
    "list2 =  [(\"mango\",99),(\"orange\",80), (\"grapes\", 1000)]\n",
    "def func2(y):\n",
    "    return y[0]\n",
    "b = list2.sort(key = func2)\n",
    "print(list2)"
   ]
  },
  {
   "cell_type": "markdown",
   "id": "e446087a-a412-4c36-acd4-865e71e6ad76",
   "metadata": {},
   "source": [
    "##### Find the squares of numbers from 1 to 10"
   ]
  },
  {
   "cell_type": "code",
   "execution_count": 27,
   "id": "63924ec3-a3ea-40a7-9122-ee448efacbc6",
   "metadata": {},
   "outputs": [
    {
     "data": {
      "text/plain": [
       "[1, 4, 9, 16, 25, 36, 49, 64, 81, 100]"
      ]
     },
     "execution_count": 27,
     "metadata": {},
     "output_type": "execute_result"
    }
   ],
   "source": [
    "sq_num = [i**2 for i in range(1,11)]\n",
    "sq_num"
   ]
  },
  {
   "cell_type": "markdown",
   "id": "38b54bf1-9002-4b71-aecf-150784cd9b72",
   "metadata": {},
   "source": [
    "##### Find the cube root of numbers from 1 to 10"
   ]
  },
  {
   "cell_type": "code",
   "execution_count": 31,
   "id": "31e2b0c7-9a9d-4246-b699-e4cff8347c1c",
   "metadata": {},
   "outputs": [
    {
     "data": {
      "text/plain": [
       "[1, 8, 27, 64, 125, 216, 343, 512, 729, 1000]"
      ]
     },
     "execution_count": 31,
     "metadata": {},
     "output_type": "execute_result"
    }
   ],
   "source": [
    "cube_num = [ i**3 for i in range(1,11)]\n",
    "cube_num"
   ]
  },
  {
   "cell_type": "markdown",
   "id": "56ab989c-2e2d-451a-927c-20af9f49cd31",
   "metadata": {},
   "source": [
    "##### Check if a given number is even"
   ]
  },
  {
   "cell_type": "code",
   "execution_count": 35,
   "id": "71d3ed5e-6921-49cb-bff2-8cacae2513ff",
   "metadata": {},
   "outputs": [],
   "source": [
    "even_num = lambda x : 'even' if (x%2 == 0) else (\"not even\")"
   ]
  },
  {
   "cell_type": "code",
   "execution_count": 36,
   "id": "24b8d672-9df3-490b-92bd-9dec02cb22fd",
   "metadata": {},
   "outputs": [
    {
     "data": {
      "text/plain": [
       "'even'"
      ]
     },
     "execution_count": 36,
     "metadata": {},
     "output_type": "execute_result"
    }
   ],
   "source": [
    "even_num(120)"
   ]
  },
  {
   "cell_type": "code",
   "execution_count": 37,
   "id": "942c320a-c4c0-495a-aa92-8d1f4692eb69",
   "metadata": {},
   "outputs": [
    {
     "data": {
      "text/plain": [
       "'not even'"
      ]
     },
     "execution_count": 37,
     "metadata": {},
     "output_type": "execute_result"
    }
   ],
   "source": [
    "even_num(121)"
   ]
  },
  {
   "cell_type": "markdown",
   "id": "ae9e6a38-981c-4ee7-82be-00767e65323b",
   "metadata": {},
   "source": [
    "##### Filter odd numbers from the given list: [1,2,3,4,5,6,7,8,9,10]"
   ]
  },
  {
   "cell_type": "code",
   "execution_count": 60,
   "id": "6d01cea8-ee85-4fee-8496-d638a2250012",
   "metadata": {},
   "outputs": [
    {
     "data": {
      "text/plain": [
       "[1, 3, 5, 7, 9]"
      ]
     },
     "execution_count": 60,
     "metadata": {},
     "output_type": "execute_result"
    }
   ],
   "source": [
    "num_list =  [1,2,3,4,5,6,7,8,9,10]\n",
    "list(filter(lambda x: x%2 != 0, num_list))"
   ]
  },
  {
   "cell_type": "markdown",
   "id": "7aac105f-3800-4207-83b4-8ac2c4cf9c6d",
   "metadata": {},
   "source": [
    "##### Sort a list of integers into positive and negative integers lists.  [1,2,3,4,5,6,-1,-2,-3,-4,-5,0] \n"
   ]
  },
  {
   "cell_type": "code",
   "execution_count": 70,
   "id": "c99de263-c3fb-464d-923a-514c1a4555d3",
   "metadata": {},
   "outputs": [
    {
     "name": "stdout",
     "output_type": "stream",
     "text": [
      "[1, 2, 3, 4, 5, 6]\n",
      "[-1, -2, -3, -4, -5]\n"
     ]
    }
   ],
   "source": [
    "a = [1,2,3,4,5,6,-1,-2,-3,-4,-5,0] \n",
    "positive_list = list(filter(lambda x: x> 0 ,a))\n",
    "negative_list = list(filter (lambda x : x< 0 ,a))\n",
    "print(positive_list)\n",
    "print(negative_list)"
   ]
  },
  {
   "cell_type": "code",
   "execution_count": null,
   "id": "65a59913-fe3c-497d-95e5-d82522bb6995",
   "metadata": {},
   "outputs": [],
   "source": []
  },
  {
   "cell_type": "code",
   "execution_count": null,
   "id": "192dcda3-84f3-418a-bb18-5c78659142ac",
   "metadata": {},
   "outputs": [],
   "source": []
  }
 ],
 "metadata": {
  "kernelspec": {
   "display_name": "Python 3 (ipykernel)",
   "language": "python",
   "name": "python3"
  },
  "language_info": {
   "codemirror_mode": {
    "name": "ipython",
    "version": 3
   },
   "file_extension": ".py",
   "mimetype": "text/x-python",
   "name": "python",
   "nbconvert_exporter": "python",
   "pygments_lexer": "ipython3",
   "version": "3.10.8"
  }
 },
 "nbformat": 4,
 "nbformat_minor": 5
}
