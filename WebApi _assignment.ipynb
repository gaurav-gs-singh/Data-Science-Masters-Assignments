{
 "cells": [
  {
   "cell_type": "markdown",
   "id": "760b1f99-89a0-489c-b533-fc89b3643bd7",
   "metadata": {},
   "source": [
    "### Q1. What is an API? Give an example, where an API is used in real life. \n",
    "\n",
    "An API, or application programming interface, is a set of defined rules that enable different applications to communicate with each other. It acts as an intermediary layer that processes data transfers between systems, letting companies open their application data and functionality to external third-party developers, business partners, and internal departments within their companies.\n",
    "The definitions and protocols within an API help businesses connect the many different applications they use in day-to-day operations, which saves employees time and breaks down silos that hinder collaboration and innovation. For developers, API documentation provides the interface for communication between applications, simplifying application integration.\n",
    "\n",
    "Use of API in third party payment processing:\n",
    "- When a user purchases a product on an ecommerce site, they may be prompted to “Pay with UPI” or another type of third-party system. This function relies on APIs to make the   connection.\n",
    "- When the buyer clicks the payment button, an API calls to retrieve information—also known as a request. This request is processed from an application to the web server via   the API’s Uniform Resource Identifier (URI) and includes a request verb, headers, and sometimes, a request body.\n",
    "- After receiving a valid request from the product webpage, the API makes a call to the external program or web server, in this case, the third-party payment system.\n",
    "- The server sends a response to the API with the requested information.\n",
    "- The API transfers the data to the initial requesting application, here the product website.\n",
    "- While the data transfer will differ depending on the web service being used, the requests and responses all happen through an API. There is no visibility on the user         interface, meaning APIs exchange data within the computer or application, and appear to the user as a seamless connection.\n"
   ]
  },
  {
   "cell_type": "markdown",
   "id": "437baa5e-8656-4513-8337-9c9df48800a5",
   "metadata": {},
   "source": [
    "### Q2. Give advantages and disadvantages of using API.\n",
    "\n",
    "Advantages:\n",
    "\n",
    "- Increased Interoperability: API solutions enable different software systems to communicate with each other, regardless of their programming language or platform. This         enhances the interoperability between systems, allowing for the exchange of data and functionality.\n",
    "- Improved Efficiency: API driven infrastructures enable developers to reuse code and functionality from existing software systems, saving time and reducing the amount of       code that needs to be written from scratch.\n",
    "- Better User Experience: APIs can enable third-party developers to create applications that integrate with existing software systems, providing a better user experience and   increased functionality.\n",
    "- Increased Flexibility: APIs provide developers with greater flexibility, enabling them to choose the best programming languages and frameworks for their needs.\n",
    "- New Revenue Streams: APIs can enable companies to create new revenue streams by providing third-party developers with access to their software systems.\n",
    "\n",
    "Disadvantages:\n",
    "\n",
    "- Security Concerns: API infrastructures can be vulnerable to security breaches, making it crucial to implement security measures to protect against these threats.\n",
    "- Complexity: APIs can be complex, requiring a significant amount of development effort to implement and maintain.\n",
    "- Compatibility Issues: APIs can have compatibility issues between different versions of the same software system or between different systems, which can lead to errors and     system failures.\n",
    "- Dependency on Third-Party Developers: APIs rely on third-party developers to create applications that integrate with the software system. This can create dependencies that   are outside of the control of the company that owns the software system.\n",
    "- Governance and Management: APIs require proper governance and management to ensure they are being used correctly and consistently across different applications and systems."
   ]
  },
  {
   "cell_type": "markdown",
   "id": "442c1ebc-033a-42a9-83c8-854239203b32",
   "metadata": {},
   "source": [
    "### Q3. What is a Web API? Differentiate between API and Web API.\n",
    "\n",
    "Web API is an API as the name suggests, it can be accessed over the web using the HTTP protocol. It is a framework that helps you to create and develop HTTP based RESTFUL services. The web API can be developed by using different technologies such as java, ASP.NET, etc. Web API is used in either a web server or a web browser. Basically Web API is a web development concept. It is limited to Web Application’s client-side and also it does not include a web server or web browser details. If an application is to be used on a distributed system and to provide services on different devices like laptops, mobiles, etc then web API services are used. \n",
    "\n",
    "API can use TCP or SMTP or HTTP while Web API will only use HTTP."
   ]
  },
  {
   "cell_type": "markdown",
   "id": "08356a83-0362-4d5f-b749-1fa1757557a0",
   "metadata": {
    "tags": []
   },
   "source": [
    "### Q4. Explain REST and SOAP Architecture. Mention shortcomings of SOAP. \n",
    "\n",
    "REST stands for REpresentational State Transfer and API stands for Application Program Interface. REST is a software architectural style that defines the set of rules to be used for creating web services. Web services which follow the REST architectural style are known as RESTful web services. It allows requesting systems to access and manipulate web resources by using a uniform and predefined set of rules. Interaction in REST based systems happen through Internet’s Hypertext Transfer Protocol (HTTP). \n",
    "\n",
    "SOAP is an acronym for Simple Object Access Protocol. It is an XML-based messaging protocol for exchanging information among computers. SOAP is an application of the XML specification.SOAP is a communication protocol designed to communicate via Internet. SOAP can exchange complete documents or call a remote procedure. It can be used for broadcasting a message.\n",
    "Main shortcoming of SOAP is less flexibility, more complexity and also harder to code in comparison to REST architecture."
   ]
  },
  {
   "cell_type": "markdown",
   "id": "bdf0c7b5-5b44-4a42-81eb-2ec04296ee7d",
   "metadata": {},
   "source": [
    "### Q5. Differentiate between REST and SOAP. \n",
    "\n",
    "- SOAP stands for Simple Object Access Protocol and REST stands for Representational State Transfer.\n",
    "- Since SOAP is a protocol, it follows a strict standard to allow communication between the client and the server whereas REST is an architectural style that doesn’t follow     any strict standard but follows six constraints defined by Roy Fielding in 2000. Those constraints are – Uniform Interface, Client-Server, Stateless, Cacheable, Layered       System, Code on Demand.\n",
    "- SOAP uses only XML for exchanging information in its message format whereas REST is not restricted to XML and its the choice of implementer which Media-Type to use like       XML, JSON, Plain-text. Moreover, REST can use SOAP protocol but SOAP cannot use REST.\n",
    "- SOAP is difficult to implement and it requires more bandwidth whereas REST is easy to implement and requires less bandwidth such as smartphones.\n",
    "- SOAP is more secure in comparison to REST. The security issue is all about your application requirement, you have to build security on your own. It’s about what type of protocol you use.\n",
    "- SOAP cannot make use of REST since SOAP is a protocol without any architectural pattern. REST can make use of SOAP because it is an architectural pattern having protocol."
   ]
  },
  {
   "cell_type": "code",
   "execution_count": null,
   "id": "9dfa42af-54fe-4432-8fda-a3eeb14f959a",
   "metadata": {},
   "outputs": [],
   "source": []
  }
 ],
 "metadata": {
  "kernelspec": {
   "display_name": "Python 3 (ipykernel)",
   "language": "python",
   "name": "python3"
  },
  "language_info": {
   "codemirror_mode": {
    "name": "ipython",
    "version": 3
   },
   "file_extension": ".py",
   "mimetype": "text/x-python",
   "name": "python",
   "nbconvert_exporter": "python",
   "pygments_lexer": "ipython3",
   "version": "3.10.8"
  }
 },
 "nbformat": 4,
 "nbformat_minor": 5
}
