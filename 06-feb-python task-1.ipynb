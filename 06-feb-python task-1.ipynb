{
 "cells": [
  {
   "cell_type": "markdown",
   "id": "0ebcbdbf-1cef-4dff-b03f-e18ad3f89117",
   "metadata": {},
   "source": [
    "### Q1. Create a function which will take a list as an argument and return the product of all the numbers  after creating a flat list. \n",
    "Use the below-given list as an argument for your function. \n",
    "Note: you must extract numeric keys and values of the dictionary also. \n",
    "\n",
    "list1 = [1,2,3,4, [44,55,66, True], False, (34,56,78,89,34), {1,2,3,3,2,1}, {1:34, \"key2\": [55, 67, 78, 89], 4: (45,  22, 61, 34)}, [56, 'data science'], 'Machine Learning'] \n"
   ]
  },
  {
   "cell_type": "code",
   "execution_count": 2,
   "id": "234da997-4533-4ea3-929e-11c39ca13c78",
   "metadata": {},
   "outputs": [],
   "source": [
    "list1 = [1,2,3,4, [44,55,66, True], False, (34,56,78,89,34), {1,2,3,3,2,1}, {1:34, \"key2\": [55, 67, 78, 89], 4: (45,  22, 61, 34)}, [56, 'data science'], 'Machine Learning'] \n"
   ]
  },
  {
   "cell_type": "code",
   "execution_count": 6,
   "id": "b257f596-8ac4-4df2-8a44-e7092668a064",
   "metadata": {},
   "outputs": [],
   "source": [
    "from functools import reduce\n",
    "int_list = []\n",
    "def func(x):\n",
    "    for i in x: \n",
    "        if type(i) == list or type (i) == tuple or type(i) == set:\n",
    "            for k in i:\n",
    "                if type(k) == int:\n",
    "                    int_list.append(k)\n",
    "        elif type(i) == dict:\n",
    "            for j in i :\n",
    "                 if type(j) == int:\n",
    "                    int_list.append(j)\n",
    "            \n",
    "            for j in i:\n",
    "                if type (i[j]) == list or type(i[j]) == tuple:\n",
    "                    for m in i[j]:\n",
    "                        if type(m) == int:\n",
    "                            int_list.append(m)\n",
    "                else:\n",
    "                    if type(i[j]) == int:\n",
    "                        int_list.append(i[j])                          \n",
    "        else: \n",
    "            if type (i) == int:\n",
    "                int_list.append(i)\n",
    "    \n",
    "     \n",
    "    return (reduce(lambda a,b: a*b, int_list))\n",
    "    \n",
    "    \n",
    "    \n",
    "        \n",
    "                \n"
   ]
  },
  {
   "cell_type": "code",
   "execution_count": 7,
   "id": "6ff114f6-768f-43bd-80cb-ce90b6c4ea5a",
   "metadata": {},
   "outputs": [
    {
     "data": {
      "text/plain": [
       "4134711838987085478833841242112000"
      ]
     },
     "execution_count": 7,
     "metadata": {},
     "output_type": "execute_result"
    }
   ],
   "source": [
    "func(list1)"
   ]
  },
  {
   "cell_type": "markdown",
   "id": "49e3e3d1-702f-4339-b214-c3684a0e36b0",
   "metadata": {},
   "source": [
    "### Q2. Write a python program for encrypting a message sent to you by your friend. The logic of encryption  should be such that, for a the output should be z. For b, the output should be y. For c, the output should  be x respectively. Also, the whitespace should be replaced with a dollar sign. Keep the punctuation  marks unchanged. \n",
    "Input Sentence: I want to become a Data Scientist. \n",
    "\n",
    "Encrypt the above input sentence using the program you just created. \n",
    "\n",
    "Note: Convert the given input sentence into lowercase before encrypting. The final output should be  lowercase. \n"
   ]
  },
  {
   "cell_type": "code",
   "execution_count": 1,
   "id": "463048c7-e13a-41d4-b596-8b136bae965c",
   "metadata": {},
   "outputs": [
    {
     "name": "stdin",
     "output_type": "stream",
     "text": [
      "please enter your message I want to become a Data Scientist.\n"
     ]
    },
    {
     "name": "stdout",
     "output_type": "stream",
     "text": [
      "r$dzmg$gl$yvxlnv$z$wzgz$hxrvmgrhg.\n"
     ]
    }
   ],
   "source": [
    "string = input(\"please enter your message\")\n",
    "string = string.lower()\n",
    "str2 = \"abcdefghijklmnopqrstuvwxyz\"\n",
    "str3 = str2[::-1]\n",
    "table = string.maketrans(str2,str3)\n",
    "print(string.translate(table).replace(\" \",\"$\"))"
   ]
  },
  {
   "cell_type": "code",
   "execution_count": null,
   "id": "79b30344-756c-47f6-b9f1-fee26eaf30b4",
   "metadata": {},
   "outputs": [],
   "source": []
  },
  {
   "cell_type": "code",
   "execution_count": null,
   "id": "dc018ff7-fe2c-461a-ad2b-32d588799adb",
   "metadata": {},
   "outputs": [],
   "source": []
  },
  {
   "cell_type": "code",
   "execution_count": null,
   "id": "48698809-9ca7-4030-820a-ae0f87d0dce9",
   "metadata": {},
   "outputs": [],
   "source": []
  },
  {
   "cell_type": "code",
   "execution_count": null,
   "id": "a419861f-b966-45b3-8a1a-70bddede7985",
   "metadata": {},
   "outputs": [],
   "source": []
  },
  {
   "cell_type": "code",
   "execution_count": null,
   "id": "a954f1e7-dff1-4625-bf06-950d851ec2e2",
   "metadata": {},
   "outputs": [],
   "source": []
  },
  {
   "cell_type": "code",
   "execution_count": null,
   "id": "28b474fb-540c-42a3-bf4f-9dcdb19258f9",
   "metadata": {},
   "outputs": [],
   "source": []
  },
  {
   "cell_type": "code",
   "execution_count": null,
   "id": "bfe53c67-ce7c-4f83-b30b-f89a456911f0",
   "metadata": {},
   "outputs": [],
   "source": []
  },
  {
   "cell_type": "code",
   "execution_count": null,
   "id": "aff23b72-cd06-4188-8784-3f8490cd7965",
   "metadata": {},
   "outputs": [],
   "source": []
  },
  {
   "cell_type": "code",
   "execution_count": null,
   "id": "425e8173-50ca-413e-8a7b-c7a8a70ec366",
   "metadata": {},
   "outputs": [],
   "source": []
  },
  {
   "cell_type": "code",
   "execution_count": null,
   "id": "acba82d2-ea20-4fa8-b50b-3410201f2118",
   "metadata": {},
   "outputs": [],
   "source": []
  },
  {
   "cell_type": "code",
   "execution_count": null,
   "id": "4c21c867-0ab8-4465-91bd-b339cc5f679a",
   "metadata": {},
   "outputs": [],
   "source": []
  },
  {
   "cell_type": "code",
   "execution_count": null,
   "id": "d3f46e8a-b76a-4ec1-b105-23f6aa898dba",
   "metadata": {},
   "outputs": [],
   "source": []
  },
  {
   "cell_type": "code",
   "execution_count": null,
   "id": "ccedee29-b507-4902-81a2-b8ecd058a1ca",
   "metadata": {},
   "outputs": [],
   "source": []
  }
 ],
 "metadata": {
  "kernelspec": {
   "display_name": "Python 3 (ipykernel)",
   "language": "python",
   "name": "python3"
  },
  "language_info": {
   "codemirror_mode": {
    "name": "ipython",
    "version": 3
   },
   "file_extension": ".py",
   "mimetype": "text/x-python",
   "name": "python",
   "nbconvert_exporter": "python",
   "pygments_lexer": "ipython3",
   "version": "3.10.8"
  }
 },
 "nbformat": 4,
 "nbformat_minor": 5
}
