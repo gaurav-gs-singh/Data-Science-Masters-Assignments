{
 "cells": [
  {
   "cell_type": "markdown",
   "id": "2f03e22c-8d5a-4b0a-b301-f6427614e6a2",
   "metadata": {},
   "source": [
    "## Q1. Explain Class and Object with respect to Object-Oriented Programming. Give a suitable example. \n",
    "CLASS is a user defined blueprint or prototype from which objects are created. class provides a means of bundling data and functionality together. Creating a new class creates a new type of object, allowing new instances of that type to be made.\n",
    "We use the class keyword to create a class in Python.\n",
    "\n",
    "An OBJECT is called an instance of a class. It has a state and behavior associated with it.It maybe any real world object like a chair,keyboard etc. Integer, strings, floating numbers, arrays, dictionaries are all objects."
   ]
  },
  {
   "cell_type": "code",
   "execution_count": 25,
   "id": "22613105-2616-4a1c-97ba-42afaa43be81",
   "metadata": {},
   "outputs": [],
   "source": [
    "# Class\n",
    "class student:\n",
    "    def stu_name(self):\n",
    "            print(\"my name is \",input(\"enter your name\"))"
   ]
  },
  {
   "cell_type": "code",
   "execution_count": 27,
   "id": "51fe7b3d-87d1-4509-a45d-78fe8c49ef4f",
   "metadata": {},
   "outputs": [
    {
     "name": "stdin",
     "output_type": "stream",
     "text": [
      "enter your name shaktiman\n"
     ]
    },
    {
     "name": "stdout",
     "output_type": "stream",
     "text": [
      "my name is  shaktiman\n"
     ]
    }
   ],
   "source": [
    "# object\n",
    "student1 = student()\n",
    "student1.stu_name()"
   ]
  },
  {
   "cell_type": "markdown",
   "id": "521c567e-20a2-4baa-bc82-f187009acd0f",
   "metadata": {},
   "source": [
    "## Q2. Name the four pillars of OOPs.\n",
    "\n",
    "The four pillars of OOPs are:\n",
    "\n",
    "a. Polymorphism\n",
    "b. Inheritance\n",
    "c. Encapsulation\n",
    "d. Abstraction"
   ]
  },
  {
   "cell_type": "markdown",
   "id": "5e2795b5-ac11-4002-9481-2a61012f0742",
   "metadata": {},
   "source": [
    "## Q3. Explain why the __init__() function is used. Give a suitable example. \n",
    "\n",
    "init() is one of the reserved functions in python. In object oriented programming, it is known as conctructor.\n",
    "The task of __init__ is to initialize(assign values) to the data members of the class when an object of the class is created. It is run as soon as an object of a class is instantiated. init() is useful to do any initialization you want to do with your object.\n"
   ]
  },
  {
   "cell_type": "code",
   "execution_count": 1,
   "id": "27bbf1d4-d32a-44de-ae4c-24def962e4e4",
   "metadata": {},
   "outputs": [
    {
     "name": "stdout",
     "output_type": "stream",
     "text": [
      "Hello, my name is Nikhil\n"
     ]
    }
   ],
   "source": [
    "class Person:\n",
    "    # init method or constructor\n",
    "    def __init__(self, name):\n",
    "        self.name = name\n",
    " \n",
    "    def say_hi(self):\n",
    "        print('Hello, my name is', self.name)\n",
    " \n",
    " \n",
    "p = Person('Nikhil')\n",
    "p.say_hi()"
   ]
  },
  {
   "cell_type": "markdown",
   "id": "c9cdd06c-e490-4816-a870-b571d1b4750e",
   "metadata": {},
   "source": [
    "## Q4. Why self is used in OOPs? \n",
    "\n",
    "In object-oriented programming, whenever we define methods for a class, we use self as the first parameter in each case."
   ]
  },
  {
   "cell_type": "code",
   "execution_count": 1,
   "id": "372a830a-d33c-47cd-bf77-e37ac615654c",
   "metadata": {},
   "outputs": [],
   "source": [
    "class Student:\n",
    "    def __init__(self, name, age):\n",
    "        self.name = name\n",
    "        self.age = age\n",
    "\n",
    "    def info(self):\n",
    "        print(f\"I am a student. My name is {self.name}. I am {self.age} years old.\")\n",
    "\n",
    "    def greetings(self):\n",
    "        print(\"hello everyone\")\n",
    "        \n"
   ]
  },
  {
   "cell_type": "code",
   "execution_count": 5,
   "id": "a8e309ca-7aa0-413f-9856-aa55ab63372f",
   "metadata": {},
   "outputs": [
    {
     "name": "stdout",
     "output_type": "stream",
     "text": [
      "I am a student. My name is ram. I am 22 years old.\n",
      "hello everyone\n",
      "I am a student. My name is shyam. I am 22 years old.\n",
      "hello everyone\n"
     ]
    }
   ],
   "source": [
    "st1 = Student(\"ram\", 22)\n",
    "st2 = Student(\"shyam\",22)\n",
    "st1.info()\n",
    "st1.greetings()\n",
    "st2.info()\n",
    "st2.greetings()"
   ]
  },
  {
   "cell_type": "raw",
   "id": "0f79773d-5993-40a8-8e2a-386f4a337676",
   "metadata": {},
   "source": [
    "In this case all the methods, including __init__, have the first parameter as self. We know that class is a blueprint for the objects. This blueprint can be used to create multiple numbers of objects.\n",
    "In above example st1 nd st2 are objects. The self keyword is used to represent an instance (object) of the given class. In this case, the two student objects st1 and st2 have their own name and age attributes. If there was no self argument, the same class couldn't hold the information for both these objects."
   ]
  },
  {
   "cell_type": "markdown",
   "id": "de5b7d75-9cf7-4c7d-b49b-c0a55e7f0bc5",
   "metadata": {},
   "source": [
    "## Q5. What is inheritance? Give an example for each type of inheritance. \n",
    "\n",
    "Inheritance is an important aspect of object oriented programming. Inheritance provides code reusability to the program because we can use an existing class to create a new class instead of creating it from scratch. In inheritance, the child class acquires the properties and can access all the data members and functions defined in the parent class. A child class can also provide its specific implementation to functions of parent class.\n",
    "Types of inheritacne :\n",
    "1. Single Inheritance: \n",
    "Single inheritance is one of the types of inheritance in Python, where there is only one base class and one child class. It is the inheritance type that is most frequently used.\n",
    "2. Multiple Inheritance: \n",
    "Multiple inheritances are another types of inheritance in Python, which refer to deriving a class from multiple base classes.\n",
    "3. Multilevel InheritanceL: \n",
    "When there are multiple levels of inheritance, the new derived class receives an additional inheritance from both the base class and the derived class. This type of inheritance in Python is referred to as multilevel inheritance."
   ]
  },
  {
   "cell_type": "code",
   "execution_count": 6,
   "id": "e7955673-56ab-4496-bda4-dbca70486c94",
   "metadata": {},
   "outputs": [
    {
     "name": "stdout",
     "output_type": "stream",
     "text": [
      "I am father.\n",
      "I am son.\n"
     ]
    }
   ],
   "source": [
    "# single inheritance\n",
    "class Father:\n",
    "    def function_1(self):\n",
    "        print ('I am father.')\n",
    "\n",
    "class Children(Father):\n",
    "    def function_2(self):\n",
    "        print ('I am son.')\n",
    "\n",
    "object = Children()\n",
    "object.function_1()\n",
    "object.function_2()\n"
   ]
  },
  {
   "cell_type": "code",
   "execution_count": 8,
   "id": "393893e4-da1a-4ec6-8306-2035808e3ad5",
   "metadata": {},
   "outputs": [],
   "source": [
    "# Multiple inheritance\n",
    "class class1 :\n",
    "    def test_class1(self):\n",
    "        print(\"this is class1\")\n",
    "        \n",
    "class class2:\n",
    "    def test_class2(self):\n",
    "        print(\"this is class2\")\n",
    "        \n",
    "class test_class3(class1,class2):\n",
    "    pass"
   ]
  },
  {
   "cell_type": "code",
   "execution_count": 12,
   "id": "21fcff83-d92f-4571-a342-9811593441ca",
   "metadata": {},
   "outputs": [
    {
     "name": "stdout",
     "output_type": "stream",
     "text": [
      "this is class2\n",
      "this is class1\n"
     ]
    }
   ],
   "source": [
    "object_class = test_class3()\n",
    "object_class.test_class2()\n",
    "object_class.test_class1()"
   ]
  },
  {
   "cell_type": "code",
   "execution_count": 18,
   "id": "f26efea4-77d3-4f7d-9d3b-deaefdf99a19",
   "metadata": {},
   "outputs": [],
   "source": [
    "# Multilevel inheritance\n",
    "\n",
    "class class1:\n",
    "    def test_class1(self):\n",
    "        print(\"this is class 1\")\n",
    "class class2(class1):\n",
    "    def test_class2(self):\n",
    "        print(\"this is class2\")\n",
    "        \n",
    "class class3(class2):\n",
    "    def test_class3(self):\n",
    "        print(\"this is class3\")"
   ]
  },
  {
   "cell_type": "code",
   "execution_count": 21,
   "id": "53c304f6-4553-47c0-aed7-874cc0974ca8",
   "metadata": {},
   "outputs": [
    {
     "name": "stdout",
     "output_type": "stream",
     "text": [
      "this is class 1\n"
     ]
    }
   ],
   "source": [
    "object_class = class3()\n",
    "object_class.test_class1()"
   ]
  },
  {
   "cell_type": "code",
   "execution_count": null,
   "id": "43f5d1b5-b986-4ecb-9ea2-502c368b2c3e",
   "metadata": {},
   "outputs": [],
   "source": []
  },
  {
   "cell_type": "code",
   "execution_count": null,
   "id": "06d1a6a8-d356-4847-a29d-c5a42c0d3d91",
   "metadata": {},
   "outputs": [],
   "source": []
  },
  {
   "cell_type": "code",
   "execution_count": null,
   "id": "7c216b7f-dc6b-4b1a-af7f-9efa623fde3f",
   "metadata": {},
   "outputs": [],
   "source": []
  },
  {
   "cell_type": "code",
   "execution_count": null,
   "id": "b9151005-53f2-49e7-8380-8dd3be085e58",
   "metadata": {},
   "outputs": [],
   "source": []
  },
  {
   "cell_type": "code",
   "execution_count": null,
   "id": "7d342291-a3ce-4be2-a573-c9b15895ca7b",
   "metadata": {},
   "outputs": [],
   "source": []
  },
  {
   "cell_type": "code",
   "execution_count": null,
   "id": "1361b4c6-43d3-48e6-b151-2c9f4a29cacc",
   "metadata": {},
   "outputs": [],
   "source": []
  }
 ],
 "metadata": {
  "kernelspec": {
   "display_name": "Python 3 (ipykernel)",
   "language": "python",
   "name": "python3"
  },
  "language_info": {
   "codemirror_mode": {
    "name": "ipython",
    "version": 3
   },
   "file_extension": ".py",
   "mimetype": "text/x-python",
   "name": "python",
   "nbconvert_exporter": "python",
   "pygments_lexer": "ipython3",
   "version": "3.10.8"
  }
 },
 "nbformat": 4,
 "nbformat_minor": 5
}
