{
 "cells": [
  {
   "cell_type": "markdown",
   "id": "2d117964",
   "metadata": {},
   "source": [
    "### Q1. How can you create a Bokeh plot using Python code?\n",
    "\n",
    "Bokeh is a data visualization library in Python that provides high-performance interactive charts and plots."
   ]
  },
  {
   "cell_type": "code",
   "execution_count": null,
   "id": "4ac783cd",
   "metadata": {},
   "outputs": [],
   "source": [
    "# To run bokeh package:\n",
    "!pip install bokeh"
   ]
  },
  {
   "cell_type": "code",
   "execution_count": null,
   "id": "61a58051",
   "metadata": {},
   "outputs": [],
   "source": [
    "# importing required libraries for interface and visualization\n",
    "import bokeh.io\n",
    "import bokeh.plotting\n",
    "bokeh.io.output_notebook()\n",
    "from bokeh .plotting import figure, output_file, show"
   ]
  },
  {
   "cell_type": "code",
   "execution_count": null,
   "id": "1d38e773",
   "metadata": {},
   "outputs": [],
   "source": [
    "# loading a sample data\n",
    "from bokeh.sampledata.iris import flowers"
   ]
  },
  {
   "cell_type": "code",
   "execution_count": null,
   "id": "ef769903",
   "metadata": {},
   "outputs": [],
   "source": [
    "flowers.head()"
   ]
  },
  {
   "cell_type": "markdown",
   "id": "f3b186fc",
   "metadata": {},
   "source": [
    "### Q2. What are glyphs in Bokeh, and how can you add them to a Bokeh plot? Explain with an example.\n",
    "\n",
    "Usually, a plot consists of geometric shapes either in the form of a line, circle, etc. So, Glyphs are nothing but visual shapes that are drawn to represent the data such as circles, squares, lines, rectangles, etc.  \n",
    "Example : The line chart displays the visualization of x and y-axis points movements in the form of a line. To draw a line glyph to the figure, we use the line() method of the figure object."
   ]
  },
  {
   "cell_type": "code",
   "execution_count": null,
   "id": "0ae00b70",
   "metadata": {},
   "outputs": [],
   "source": [
    "from bokeh.plotting import figure, output_file, show"
   ]
  },
  {
   "cell_type": "code",
   "execution_count": null,
   "id": "ca47318c",
   "metadata": {},
   "outputs": [],
   "source": [
    "x1 = [1,3,4,5,6]\n",
    "x2 = [5,3,8,1,9]\n",
    "y1 = [6,6,7,8,2]\n",
    "y2 = [3,5,7,9,1]\n",
    "output_file(\"line_html\")\n",
    "p = figure(title = \"Multiple line graphs\")\n",
    "p.line(x1,y1, legend_label = 'line-1', line_color = 'red')\n",
    "p.line(x1,y2,legend_label = 'line-2', line_color = 'blue')\n",
    "p.line(x2,y2,legend_label = 'line-3', line_color = 'black')\n",
    "show(p)\n"
   ]
  },
  {
   "cell_type": "markdown",
   "id": "34aebdf8",
   "metadata": {},
   "source": [
    "### Q3. How can you customize the appearance of a Bokeh plot, including the axes, title, and legend?\n",
    "\n",
    "Setting the appearance of the plot using a circle glyph:"
   ]
  },
  {
   "cell_type": "code",
   "execution_count": null,
   "id": "08da4f84",
   "metadata": {},
   "outputs": [],
   "source": [
    "from bokeh.plotting import figure, output_file, show"
   ]
  },
  {
   "cell_type": "code",
   "execution_count": null,
   "id": "9c887cd3",
   "metadata": {},
   "outputs": [],
   "source": [
    "x = [1, 2, 4, 6, 7]\n",
    "y = [7, 6, 3, 9, 10]\n",
    "p = figure(title = \"circle_glyph\", x_axis_label = \"X_axis\", y_axis_label = \"Y_axis\")\n",
    "p.circle(x = x,y = y, size = 20,legend_label = \"data_points\", fill_color = 'red')\n",
    "show(p)"
   ]
  },
  {
   "cell_type": "markdown",
   "id": "9ca1a9a6",
   "metadata": {},
   "source": [
    "### Q4. What is a Bokeh server, and how can you use it to create interactive plots that can be updated in real time?\n",
    "\n",
    "Bokeh server makes it easy to create interactive web applications that connect front-end UI events to running Python code.\n",
    "Bokeh creates high-level Python models, such as plots, ranges, axes, and glyphs, and then converts these objects to JSON to pass them to its client library, BokehJS. \n",
    "The primary purpose of the Bokeh server is to synchronize data between the underlying Python environment and the BokehJS library running in the browser.\n",
    "Manipulating the UI controls communicates new values to the backend via Bokeh server. This also triggers callbacks that update the plots with the input in real time.\n",
    "\n",
    "The Bokeh server executes the application code with every new connection and creates a new Bokeh document, syncing it to the browser. The application code also sets up the callbacks that should run whenever properties, such as widget values, change."
   ]
  },
  {
   "cell_type": "markdown",
   "id": "b06fd016",
   "metadata": {},
   "source": [
    "### Q5. How can you embed a Bokeh plot into a web page or dashboard using Flask or Django?\n",
    "\n",
    "we have created three Bokeh charts (scatter plot, bar chart, and line chart). We have used a single endpoint which is the root endpoint for our Flask application. For each chart, we get the HTML components to embed the charts in our template using the components() function. It returns the script and an HTML div tag assuming that the required JS files from Bokeh are already loaded in our template through the local URL or Bokeh’s CDN. The charts will be responsive due to the attribute ‘sizing_mode=”stretch_width”‘ used in each of the figures."
   ]
  },
  {
   "cell_type": "code",
   "execution_count": null,
   "id": "a4210bf8",
   "metadata": {},
   "outputs": [],
   "source": [
    "# Importing required functions\n",
    "import random\n",
    "  \n",
    "from flask import Flask, render_template\n",
    "from bokeh.embed import components\n",
    "from bokeh.plotting import figure\n",
    "  \n",
    "# Flask constructor\n",
    "app = Flask(__name__)\n",
    "  \n",
    "# Root endpoint\n",
    "@app.route('/')\n",
    "def homepage():\n",
    "  \n",
    "    # First Chart - Scatter Plot\n",
    "    p1 = figure(height=350, sizing_mode=\"stretch_width\")\n",
    "    p1.circle(\n",
    "        [i for i in range(10)],\n",
    "        [random.randint(1, 50) for j in range(10)],\n",
    "        size=20,\n",
    "        color=\"navy\",\n",
    "        alpha=0.5\n",
    "    )\n",
    "  \n",
    "    # Second Chart - Line Plot\n",
    "    language = ['Python', 'JavaScript', 'C++', 'C#', 'Java', 'Golang']\n",
    "    popularity = [85, 91, 63, 58, 80, 77]\n",
    "  \n",
    "    p2 = figure(\n",
    "        x_range=language,\n",
    "        height=350,\n",
    "        title=\"Popularity\",\n",
    "    )\n",
    "    p2.vbar(x=language, top=popularity, width=0.5)\n",
    "    p2.xgrid.grid_line_color = None\n",
    "    p2.y_range.start = 0\n",
    "  \n",
    "    # Third Chart - Line Plot\n",
    "    p3 = figure(height=350, sizing_mode=\"stretch_width\")\n",
    "    p3.line(\n",
    "        [i for i in range(10)],\n",
    "        [random.randint(1, 50) for j in range(10)],\n",
    "        line_width=2,\n",
    "        color=\"olive\",\n",
    "        alpha=0.5\n",
    "    )\n",
    "  \n",
    "    script1, div1 = components(p1)\n",
    "    script2, div2 = components(p2)\n",
    "    script3, div3 = components(p3)\n",
    "  \n",
    "    # Return all the charts to the HTML template\n",
    "    return render_template(\n",
    "        template_name_or_list='charts.html',\n",
    "        script=[script1, script2, script3],\n",
    "        div=[div1, div2, div3],\n",
    "    )\n",
    "  \n",
    "  \n",
    "# Main Driver Function\n",
    "if __name__ == '__main__':\n",
    "    # Run the application on the local development server\n",
    "    app.run()"
   ]
  },
  {
   "cell_type": "code",
   "execution_count": null,
   "id": "c6be02c2",
   "metadata": {},
   "outputs": [],
   "source": []
  }
 ],
 "metadata": {
  "kernelspec": {
   "display_name": "Python 3 (ipykernel)",
   "language": "python",
   "name": "python3"
  },
  "language_info": {
   "codemirror_mode": {
    "name": "ipython",
    "version": 3
   },
   "file_extension": ".py",
   "mimetype": "text/x-python",
   "name": "python",
   "nbconvert_exporter": "python",
   "pygments_lexer": "ipython3",
   "version": "3.9.13"
  }
 },
 "nbformat": 4,
 "nbformat_minor": 5
}
