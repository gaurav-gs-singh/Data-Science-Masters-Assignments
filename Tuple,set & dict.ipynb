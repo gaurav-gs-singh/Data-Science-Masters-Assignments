{
 "cells": [
  {
   "cell_type": "markdown",
   "id": "f1ee77ae-c0fe-4df1-9cf5-0d1ceba1a8d7",
   "metadata": {},
   "source": [
    "## Q1: What are the characteristics of the tuple? Is tuple immutable ?\n",
    "Characterisitics of tuple are:\n",
    "1. Tuples are an immutable data type, which means that once they have been generated, their elements cannot be changed.\n",
    "2. Since tuples are ordered sequences, each element has a specific order that will never change.\n",
    "3. It can contain duplicate items\n",
    "4. Tuple can hold all datatypes\n",
    "5. Tuples are indexed and ordered\n",
    "\n",
    "Tuples are immutable. It does not support item reassignment.\n",
    "\n",
    "\n",
    "\n",
    "\n",
    "\n",
    "\n"
   ]
  },
  {
   "cell_type": "markdown",
   "id": "7bfc7234-f775-4e22-beef-59bd0946f949",
   "metadata": {},
   "source": [
    "## Q2: What are the two tuple methods in python? Give an example of each method. Give a reason why  tuples have only two in-built methods as compared to Lists. \n",
    "Two tuple methods are: \n",
    "1. Count(): it returns the number of times a specified value occurs in a tuple.\n",
    "\n"
   ]
  },
  {
   "cell_type": "code",
   "execution_count": 7,
   "id": "2d8b586b-ad67-4a49-828d-31f9af53f523",
   "metadata": {},
   "outputs": [
    {
     "data": {
      "text/plain": [
       "4"
      ]
     },
     "execution_count": 7,
     "metadata": {},
     "output_type": "execute_result"
    }
   ],
   "source": [
    "t1 = (1,2,3,4,5,6,2,3,2,3,2)\n",
    "t1.count(2)"
   ]
  },
  {
   "cell_type": "markdown",
   "id": "def8b1c8-6b3b-47b0-b6cd-ecb3dae51a1e",
   "metadata": {},
   "source": [
    "2. index() : Searches the tuple for a specified value and returns the position of where it was found.\n"
   ]
  },
  {
   "cell_type": "code",
   "execution_count": 8,
   "id": "7b83337d-1677-4f3d-8202-7f151a696a06",
   "metadata": {},
   "outputs": [
    {
     "data": {
      "text/plain": [
       "2"
      ]
     },
     "execution_count": 8,
     "metadata": {},
     "output_type": "execute_result"
    }
   ],
   "source": [
    "t2 = (\"gaurav\", True, 100, 1,2,3,\"pwskills\")\n",
    "t2.index(100)"
   ]
  },
  {
   "cell_type": "markdown",
   "id": "ce3b9b93-4b10-4582-8792-ebb35cef8652",
   "metadata": {},
   "source": [
    "## Q3:  Which collection datatypes in python do not allow duplicate items? Write a code using a set to remove  duplicates from the given list. \n",
    "List = [1, 1, 1, 2, 1, 3, 1, 4, 2, 1, 2, 2, 2, 3, 2, 4, 3, 1, 3, 2, 3, 3, 3, 4, 4, 1, 4, 2, 4, 3, 4, 4] \n",
    "\n",
    "Set datatype in python does not allow duplicate items. Each element is unique in set.\n"
   ]
  },
  {
   "cell_type": "code",
   "execution_count": 11,
   "id": "160bae35-a085-432b-be63-b99b9a44eef3",
   "metadata": {},
   "outputs": [
    {
     "name": "stdout",
     "output_type": "stream",
     "text": [
      "{1, 2, 3, 4}\n"
     ]
    }
   ],
   "source": [
    "List = [1, 1, 1, 2, 1, 3, 1, 4, 2, 1, 2, 2, 2, 3, 2, 4, 3, 1, 3, 2, 3, 3, 3, 4, 4, 1, 4, 2, 4, 3, 4, 4] \n",
    "x = set(List)\n",
    "print(x)"
   ]
  },
  {
   "cell_type": "markdown",
   "id": "d9ae4b00-f8a5-47c7-b17e-e616ee2d75b5",
   "metadata": {},
   "source": [
    "## Q4. Explain the difference between the union() and update() methods for a set. Give an example of  each method.\n",
    "union() returns a new set which contains all the items from the original set. union of two given set is set which contains all the elements of both the sets such that no elements are repeated.\n",
    "update() adds elements from a set(passed as an argument) to the set.\n",
    "Both set.update() and set.union() perform the union operation. However, set.update() adds all missing elements to the set on which it is called whereas set.union() creates a new set.\n",
    "\n"
   ]
  },
  {
   "cell_type": "code",
   "execution_count": 1,
   "id": "8151f306-c019-4d37-83d0-10aca310e8c0",
   "metadata": {},
   "outputs": [
    {
     "data": {
      "text/plain": [
       "{1, 2, 3, 4, 5, 6, 7, 8, 9}"
      ]
     },
     "execution_count": 1,
     "metadata": {},
     "output_type": "execute_result"
    }
   ],
   "source": [
    "#union()\n",
    "a = {1,2,3,4}\n",
    "b = {3,4,5,6}\n",
    "c= {6,7,8,9}\n",
    "a.union(b,c)"
   ]
  },
  {
   "cell_type": "code",
   "execution_count": 4,
   "id": "6dfd8d47-4624-467d-a10d-899307ace153",
   "metadata": {},
   "outputs": [
    {
     "data": {
      "text/plain": [
       "{1, 2, 3, 'bob', 'ram', 'sam'}"
      ]
     },
     "execution_count": 4,
     "metadata": {},
     "output_type": "execute_result"
    }
   ],
   "source": [
    "#update\n",
    "list1 = [\"sam\",\"ram\",\"bob\"]\n",
    "set1 = {1,2,3}\n",
    "set1.update(list1)\n",
    "set1"
   ]
  },
  {
   "cell_type": "markdown",
   "id": "81cae047-445e-447d-9701-2f2783bfac2f",
   "metadata": {},
   "source": [
    "## Q5. What is a dictionary? Give an example. Also, state whether a dictionary is ordered or unordered. \n",
    "dictionary stores data in key and value pairs. Here keys are unique identifiers that are associated with each value.\n",
    "dictionary is an unordered collection of data."
   ]
  },
  {
   "cell_type": "code",
   "execution_count": 12,
   "id": "59108bf2-93a2-4ab3-acc0-113d91b21d5b",
   "metadata": {},
   "outputs": [
    {
     "name": "stdout",
     "output_type": "stream",
     "text": [
      "{'Nepal': 'Kathmandu', 'India': 'New Delhi', 'England': 'London'}\n",
      "dict_keys(['Nepal', 'India', 'England'])\n",
      "dict_values(['Kathmandu', 'New Delhi', 'London'])\n",
      "dict_items([('Nepal', 'Kathmandu'), ('India', 'New Delhi'), ('England', 'London')])\n"
     ]
    }
   ],
   "source": [
    "capital_city = {\"Nepal\": \"Kathmandu\", \"India\": \"New Delhi\", \"England\": \"London\"}\n",
    "print(capital_city)\n",
    "print(capital_city.keys())\n",
    "print(capital_city.values())\n",
    "print(capital_city.items())"
   ]
  },
  {
   "cell_type": "markdown",
   "id": "b8c3cfbe-39cd-4706-99d5-623f794cb531",
   "metadata": {},
   "source": [
    "## Q6. Can we create a nested dictionary? If so, please give an example by creating a simple one-level  nested dictionary. \n",
    "Yes, we can create a nested dictionary."
   ]
  },
  {
   "cell_type": "code",
   "execution_count": 18,
   "id": "f2e01f9c-a235-4bca-b256-307b52fa9412",
   "metadata": {},
   "outputs": [
    {
     "data": {
      "text/plain": [
       "'patna'"
      ]
     },
     "execution_count": 18,
     "metadata": {},
     "output_type": "execute_result"
    }
   ],
   "source": [
    "d1 = {\"info\" : {\"name\" : \"gaurav\", \"city\": \"patna\"}}\n",
    "d1[\"info\"][\"city\"]"
   ]
  },
  {
   "cell_type": "markdown",
   "id": "64ff3204-b2df-4ecf-80ba-fd83705d338f",
   "metadata": {},
   "source": [
    "## Q7. Using setdefault() method, create key named topics in the given dictionary and also add the value of  the key as this list \n",
    "['Python', 'Machine Learning’, 'Deep Learning']  \n",
    "\n"
   ]
  },
  {
   "cell_type": "code",
   "execution_count": 27,
   "id": "c0b87013-e78a-4720-aee9-0c122c2b0657",
   "metadata": {},
   "outputs": [
    {
     "data": {
      "text/plain": [
       "'Python'"
      ]
     },
     "execution_count": 27,
     "metadata": {},
     "output_type": "execute_result"
    }
   ],
   "source": [
    "dict1 = {'language' : 'Python', 'course': 'Data Science Masters'} \n",
    "dict1.setdefault('language')"
   ]
  },
  {
   "cell_type": "code",
   "execution_count": 28,
   "id": "4d5c0774-9a47-4c02-a651-c997b810f0a9",
   "metadata": {},
   "outputs": [
    {
     "data": {
      "text/plain": [
       "'Machine Learning'"
      ]
     },
     "execution_count": 28,
     "metadata": {},
     "output_type": "execute_result"
    }
   ],
   "source": [
    "dict1.setdefault(\"course_topic1\", \"Machine Learning\")"
   ]
  },
  {
   "cell_type": "code",
   "execution_count": 29,
   "id": "0d75fd9a-6a91-4946-aaa7-0d0dcbf8be97",
   "metadata": {},
   "outputs": [
    {
     "data": {
      "text/plain": [
       "'Deep Learning'"
      ]
     },
     "execution_count": 29,
     "metadata": {},
     "output_type": "execute_result"
    }
   ],
   "source": [
    "dict1.setdefault(\"course_topic2\" ,\"Deep Learning\")"
   ]
  },
  {
   "cell_type": "code",
   "execution_count": 30,
   "id": "18194986-cac2-4578-bd55-8188dd741bc0",
   "metadata": {},
   "outputs": [
    {
     "name": "stdout",
     "output_type": "stream",
     "text": [
      "{'language': 'Python', 'course': 'Data Science Masters', 'course_topic1': 'Machine Learning', 'course_topic2': 'Deep Learning'}\n"
     ]
    }
   ],
   "source": [
    "print(dict1)"
   ]
  },
  {
   "cell_type": "markdown",
   "id": "ad51cc67-80b1-4fb5-9076-6c89b9431450",
   "metadata": {},
   "source": [
    "## Q8. What are the three view objects in dictionaries? Use the three in-built methods in python to display  these three view objects for the given dictionary.\n",
    "\n",
    "The main view objects of dictionary in python are keys, values and items. Keys holds all the keys of the dictionary, the values objects holds all the values, whereas the items holds the key-value pairs."
   ]
  },
  {
   "cell_type": "code",
   "execution_count": 31,
   "id": "30a94993-2744-4523-b795-76c5f473e173",
   "metadata": {},
   "outputs": [
    {
     "name": "stdout",
     "output_type": "stream",
     "text": [
      "dict_keys(['Sport', 'Teams'])\n"
     ]
    }
   ],
   "source": [
    "dict1 = {'Sport': 'Cricket' , 'Teams': ['India', 'Australia', 'England', 'South Africa', 'Sri Lanka', 'New Zealand']} \n",
    "print(dict1.keys())"
   ]
  },
  {
   "cell_type": "code",
   "execution_count": 32,
   "id": "ac37012d-130a-4d79-add9-77bd523babeb",
   "metadata": {},
   "outputs": [
    {
     "name": "stdout",
     "output_type": "stream",
     "text": [
      "dict_values(['Cricket', ['India', 'Australia', 'England', 'South Africa', 'Sri Lanka', 'New Zealand']])\n"
     ]
    }
   ],
   "source": [
    "print(dict1.values())"
   ]
  },
  {
   "cell_type": "code",
   "execution_count": 33,
   "id": "21797102-76c2-40f6-bf61-8ba2df440fb2",
   "metadata": {},
   "outputs": [
    {
     "name": "stdout",
     "output_type": "stream",
     "text": [
      "dict_items([('Sport', 'Cricket'), ('Teams', ['India', 'Australia', 'England', 'South Africa', 'Sri Lanka', 'New Zealand'])])\n"
     ]
    }
   ],
   "source": [
    "print(dict1.items())"
   ]
  }
 ],
 "metadata": {
  "kernelspec": {
   "display_name": "Python 3 (ipykernel)",
   "language": "python",
   "name": "python3"
  },
  "language_info": {
   "codemirror_mode": {
    "name": "ipython",
    "version": 3
   },
   "file_extension": ".py",
   "mimetype": "text/x-python",
   "name": "python",
   "nbconvert_exporter": "python",
   "pygments_lexer": "ipython3",
   "version": "3.10.8"
  }
 },
 "nbformat": 4,
 "nbformat_minor": 5
}
