{
 "cells": [
  {
   "cell_type": "markdown",
   "id": "60292d9c-3f10-479e-8424-b8e0e71d5282",
   "metadata": {},
   "source": [
    "### Q1: What are missing values in a dataset? Why is it essential to handle missing values? Name some algorithms that are not affected by missing values."
   ]
  },
  {
   "cell_type": "markdown",
   "id": "b61396a8-b737-45f4-92fa-998d521c7af7",
   "metadata": {},
   "source": [
    "Missing Data can occur when no information is provided for one or more items or for a whole unit. Missing Data is a very big problem in a real-life scenarios. Missing Data can also refer to as NA(Not Available) values in pandas. In DataFrame sometimes many datasets simply arrive with missing data, either because it exists and was not collected or it never existed. For Example, Suppose different users being surveyed may choose not to share their income, some users may choose not to share the address in this way many datasets went missing.\n",
    "\n",
    "The handling of missing data is very important during the preprocessing of the dataset as many machine learning algorithms do not support missing values.Most of the machine learning algorithms cannot process missing values in the dataset, hence it must be handled prior to the modeling pipeline.\n",
    "\n",
    "Algorithms that are not affected by missisng values:\n",
    "1. Histogram based gradient boosting\n",
    "2. k-nearest\n",
    "3. Naive Bayes\n",
    "4. Forest algorithms"
   ]
  },
  {
   "cell_type": "markdown",
   "id": "a7069159-ac66-44c4-bea4-69e678eacf86",
   "metadata": {},
   "source": [
    "### Q2: List down techniques used to handle missing data.  Give an example of each with python code."
   ]
  },
  {
   "cell_type": "markdown",
   "id": "af4c8aa9-1d40-41b0-9eaa-356651fd4b53",
   "metadata": {},
   "source": [
    "Techniques used to handle the missing values are:\n",
    "1. Deleting Rows with missing values\n",
    "2. Impute missing values for continuous variable\n",
    "3. Impute missing values for categorical variable\n",
    "4. Other Imputation Methods\n",
    "5. Using Algorithms that support missing values\n",
    "6. Prediction of missing values\n",
    "7. Imputation using Deep Learning Library — Datawig\n",
    "\n",
    "Dataset Used : Titanic.csv"
   ]
  },
  {
   "cell_type": "code",
   "execution_count": 6,
   "id": "576ca979-843b-4bc6-ad2c-668c01d7ffe7",
   "metadata": {},
   "outputs": [
    {
     "name": "stdout",
     "output_type": "stream",
     "text": [
      "Collecting missingno\n",
      "  Downloading missingno-0.5.2-py3-none-any.whl (8.7 kB)\n",
      "Requirement already satisfied: numpy in /opt/conda/lib/python3.10/site-packages (from missingno) (1.23.5)\n",
      "Requirement already satisfied: matplotlib in /opt/conda/lib/python3.10/site-packages (from missingno) (3.6.2)\n",
      "Requirement already satisfied: seaborn in /opt/conda/lib/python3.10/site-packages (from missingno) (0.12.1)\n",
      "Requirement already satisfied: scipy in /opt/conda/lib/python3.10/site-packages (from missingno) (1.9.3)\n",
      "Requirement already satisfied: cycler>=0.10 in /opt/conda/lib/python3.10/site-packages (from matplotlib->missingno) (0.11.0)\n",
      "Requirement already satisfied: contourpy>=1.0.1 in /opt/conda/lib/python3.10/site-packages (from matplotlib->missingno) (1.0.6)\n",
      "Requirement already satisfied: python-dateutil>=2.7 in /opt/conda/lib/python3.10/site-packages (from matplotlib->missingno) (2.8.2)\n",
      "Requirement already satisfied: kiwisolver>=1.0.1 in /opt/conda/lib/python3.10/site-packages (from matplotlib->missingno) (1.4.4)\n",
      "Requirement already satisfied: pillow>=6.2.0 in /opt/conda/lib/python3.10/site-packages (from matplotlib->missingno) (9.2.0)\n",
      "Requirement already satisfied: pyparsing>=2.2.1 in /opt/conda/lib/python3.10/site-packages (from matplotlib->missingno) (3.0.9)\n",
      "Requirement already satisfied: packaging>=20.0 in /opt/conda/lib/python3.10/site-packages (from matplotlib->missingno) (22.0)\n",
      "Requirement already satisfied: fonttools>=4.22.0 in /opt/conda/lib/python3.10/site-packages (from matplotlib->missingno) (4.38.0)\n",
      "Requirement already satisfied: pandas>=0.25 in /opt/conda/lib/python3.10/site-packages (from seaborn->missingno) (1.5.2)\n",
      "Requirement already satisfied: pytz>=2020.1 in /opt/conda/lib/python3.10/site-packages (from pandas>=0.25->seaborn->missingno) (2022.6)\n",
      "Requirement already satisfied: six>=1.5 in /opt/conda/lib/python3.10/site-packages (from python-dateutil>=2.7->matplotlib->missingno) (1.16.0)\n",
      "Installing collected packages: missingno\n",
      "Successfully installed missingno-0.5.2\n"
     ]
    }
   ],
   "source": [
    "!pip install missingno"
   ]
  },
  {
   "cell_type": "code",
   "execution_count": 7,
   "id": "6abf28fd-11b6-4d33-b52c-8a05645a22f9",
   "metadata": {},
   "outputs": [
    {
     "data": {
      "text/html": [
       "<div>\n",
       "<style scoped>\n",
       "    .dataframe tbody tr th:only-of-type {\n",
       "        vertical-align: middle;\n",
       "    }\n",
       "\n",
       "    .dataframe tbody tr th {\n",
       "        vertical-align: top;\n",
       "    }\n",
       "\n",
       "    .dataframe thead th {\n",
       "        text-align: right;\n",
       "    }\n",
       "</style>\n",
       "<table border=\"1\" class=\"dataframe\">\n",
       "  <thead>\n",
       "    <tr style=\"text-align: right;\">\n",
       "      <th></th>\n",
       "      <th>PassengerId</th>\n",
       "      <th>Survived</th>\n",
       "      <th>Pclass</th>\n",
       "      <th>Name</th>\n",
       "      <th>Sex</th>\n",
       "      <th>Age</th>\n",
       "      <th>SibSp</th>\n",
       "      <th>Parch</th>\n",
       "      <th>Ticket</th>\n",
       "      <th>Fare</th>\n",
       "      <th>Cabin</th>\n",
       "      <th>Embarked</th>\n",
       "    </tr>\n",
       "  </thead>\n",
       "  <tbody>\n",
       "    <tr>\n",
       "      <th>0</th>\n",
       "      <td>1</td>\n",
       "      <td>0</td>\n",
       "      <td>3</td>\n",
       "      <td>Braund, Mr. Owen Harris</td>\n",
       "      <td>male</td>\n",
       "      <td>22.0</td>\n",
       "      <td>1</td>\n",
       "      <td>0</td>\n",
       "      <td>A/5 21171</td>\n",
       "      <td>7.2500</td>\n",
       "      <td>NaN</td>\n",
       "      <td>S</td>\n",
       "    </tr>\n",
       "    <tr>\n",
       "      <th>1</th>\n",
       "      <td>2</td>\n",
       "      <td>1</td>\n",
       "      <td>1</td>\n",
       "      <td>Cumings, Mrs. John Bradley (Florence Briggs Th...</td>\n",
       "      <td>female</td>\n",
       "      <td>38.0</td>\n",
       "      <td>1</td>\n",
       "      <td>0</td>\n",
       "      <td>PC 17599</td>\n",
       "      <td>71.2833</td>\n",
       "      <td>C85</td>\n",
       "      <td>C</td>\n",
       "    </tr>\n",
       "    <tr>\n",
       "      <th>2</th>\n",
       "      <td>3</td>\n",
       "      <td>1</td>\n",
       "      <td>3</td>\n",
       "      <td>Heikkinen, Miss. Laina</td>\n",
       "      <td>female</td>\n",
       "      <td>26.0</td>\n",
       "      <td>0</td>\n",
       "      <td>0</td>\n",
       "      <td>STON/O2. 3101282</td>\n",
       "      <td>7.9250</td>\n",
       "      <td>NaN</td>\n",
       "      <td>S</td>\n",
       "    </tr>\n",
       "    <tr>\n",
       "      <th>3</th>\n",
       "      <td>4</td>\n",
       "      <td>1</td>\n",
       "      <td>1</td>\n",
       "      <td>Futrelle, Mrs. Jacques Heath (Lily May Peel)</td>\n",
       "      <td>female</td>\n",
       "      <td>35.0</td>\n",
       "      <td>1</td>\n",
       "      <td>0</td>\n",
       "      <td>113803</td>\n",
       "      <td>53.1000</td>\n",
       "      <td>C123</td>\n",
       "      <td>S</td>\n",
       "    </tr>\n",
       "    <tr>\n",
       "      <th>4</th>\n",
       "      <td>5</td>\n",
       "      <td>0</td>\n",
       "      <td>3</td>\n",
       "      <td>Allen, Mr. William Henry</td>\n",
       "      <td>male</td>\n",
       "      <td>35.0</td>\n",
       "      <td>0</td>\n",
       "      <td>0</td>\n",
       "      <td>373450</td>\n",
       "      <td>8.0500</td>\n",
       "      <td>NaN</td>\n",
       "      <td>S</td>\n",
       "    </tr>\n",
       "  </tbody>\n",
       "</table>\n",
       "</div>"
      ],
      "text/plain": [
       "   PassengerId  Survived  Pclass  \\\n",
       "0            1         0       3   \n",
       "1            2         1       1   \n",
       "2            3         1       3   \n",
       "3            4         1       1   \n",
       "4            5         0       3   \n",
       "\n",
       "                                                Name     Sex   Age  SibSp  \\\n",
       "0                            Braund, Mr. Owen Harris    male  22.0      1   \n",
       "1  Cumings, Mrs. John Bradley (Florence Briggs Th...  female  38.0      1   \n",
       "2                             Heikkinen, Miss. Laina  female  26.0      0   \n",
       "3       Futrelle, Mrs. Jacques Heath (Lily May Peel)  female  35.0      1   \n",
       "4                           Allen, Mr. William Henry    male  35.0      0   \n",
       "\n",
       "   Parch            Ticket     Fare Cabin Embarked  \n",
       "0      0         A/5 21171   7.2500   NaN        S  \n",
       "1      0          PC 17599  71.2833   C85        C  \n",
       "2      0  STON/O2. 3101282   7.9250   NaN        S  \n",
       "3      0            113803  53.1000  C123        S  \n",
       "4      0            373450   8.0500   NaN        S  "
      ]
     },
     "execution_count": 7,
     "metadata": {},
     "output_type": "execute_result"
    }
   ],
   "source": [
    "import pandas as pd\n",
    "import numpy as np\n",
    "import missingno as msno\n",
    "df = pd.read_csv(\"titanic_dataset.csv\")\n",
    "df.head()"
   ]
  },
  {
   "cell_type": "code",
   "execution_count": 8,
   "id": "a466fd06-cf02-40d0-a771-c350aabf24b5",
   "metadata": {},
   "outputs": [
    {
     "name": "stdout",
     "output_type": "stream",
     "text": [
      "<class 'pandas.core.frame.DataFrame'>\n",
      "RangeIndex: 891 entries, 0 to 890\n",
      "Data columns (total 12 columns):\n",
      " #   Column       Non-Null Count  Dtype  \n",
      "---  ------       --------------  -----  \n",
      " 0   PassengerId  891 non-null    int64  \n",
      " 1   Survived     891 non-null    int64  \n",
      " 2   Pclass       891 non-null    int64  \n",
      " 3   Name         891 non-null    object \n",
      " 4   Sex          891 non-null    object \n",
      " 5   Age          714 non-null    float64\n",
      " 6   SibSp        891 non-null    int64  \n",
      " 7   Parch        891 non-null    int64  \n",
      " 8   Ticket       891 non-null    object \n",
      " 9   Fare         891 non-null    float64\n",
      " 10  Cabin        204 non-null    object \n",
      " 11  Embarked     889 non-null    object \n",
      "dtypes: float64(2), int64(5), object(5)\n",
      "memory usage: 83.7+ KB\n"
     ]
    }
   ],
   "source": [
    "df.info()"
   ]
  },
  {
   "cell_type": "code",
   "execution_count": 9,
   "id": "1c48230e-3f89-4304-ad8d-634a7fa9cddc",
   "metadata": {},
   "outputs": [
    {
     "data": {
      "text/plain": [
       "<AxesSubplot: >"
      ]
     },
     "execution_count": 9,
     "metadata": {},
     "output_type": "execute_result"
    },
    {
     "data": {
      "image/png": "[encoded data removed]",
      "text/plain": [
       "<Figure size 2500x1000 with 3 Axes>"
      ]
     },
     "metadata": {},
     "output_type": "display_data"
    }
   ],
   "source": [
    "msno.bar(df)"
   ]
  },
  {
   "cell_type": "code",
   "execution_count": 16,
   "id": "c9a0e03b-f98b-490f-af20-371aa84ecffd",
   "metadata": {},
   "outputs": [],
   "source": [
    "# observation: 'Age' and 'Cabin' columns have missng values"
   ]
  },
  {
   "cell_type": "markdown",
   "id": "0ef89b91-baad-4282-9b7d-d165eca790d6",
   "metadata": {},
   "source": [
    "#### 1. Deleting rows with missing values\n",
    "\n",
    "Missing values can be handled by deleting the rows or columns having null values. If columns have more than half of the rows as null then the entire column can be dropped. The rows which are having one or more columns values as null can also be dropped.\n",
    "\n",
    "A model trained with the removal of all missing values creates a robust model but it can lead to a huge amount of data loss. Also Works poorly if the percentage of missing values is excessive in comparison to the complete dataset.\n"
   ]
  },
  {
   "cell_type": "code",
   "execution_count": 10,
   "id": "0a98eac9-9958-44a4-b261-220b2a2f4f64",
   "metadata": {},
   "outputs": [
    {
     "data": {
      "text/plain": [
       "PassengerId      0\n",
       "Survived         0\n",
       "Pclass           0\n",
       "Name             0\n",
       "Sex              0\n",
       "Age            177\n",
       "SibSp            0\n",
       "Parch            0\n",
       "Ticket           0\n",
       "Fare             0\n",
       "Cabin          687\n",
       "Embarked         2\n",
       "dtype: int64"
      ]
     },
     "execution_count": 10,
     "metadata": {},
     "output_type": "execute_result"
    }
   ],
   "source": [
    "df.isnull().sum()"
   ]
  },
  {
   "cell_type": "code",
   "execution_count": 12,
   "id": "821b5a77-fd01-4feb-b213-791dafcb49d8",
   "metadata": {},
   "outputs": [
    {
     "data": {
      "text/plain": [
       "(891, 12)"
      ]
     },
     "execution_count": 12,
     "metadata": {},
     "output_type": "execute_result"
    }
   ],
   "source": [
    "df.shape"
   ]
  },
  {
   "cell_type": "code",
   "execution_count": 15,
   "id": "29df28cc-40ba-42fa-bac5-cb7de22c9af2",
   "metadata": {},
   "outputs": [
    {
     "data": {
      "text/plain": [
       "PassengerId    0\n",
       "Survived       0\n",
       "Pclass         0\n",
       "Name           0\n",
       "Sex            0\n",
       "Age            0\n",
       "SibSp          0\n",
       "Parch          0\n",
       "Ticket         0\n",
       "Fare           0\n",
       "Cabin          0\n",
       "Embarked       0\n",
       "dtype: int64"
      ]
     },
     "execution_count": 15,
     "metadata": {},
     "output_type": "execute_result"
    }
   ],
   "source": [
    "df.dropna(inplace = True)\n",
    "df.isnull().sum()"
   ]
  },
  {
   "cell_type": "markdown",
   "id": "0bb87f92-c179-4c46-980b-a7bc2241406e",
   "metadata": {},
   "source": [
    "#### 2. Impute missing values with Mean/Median:\n",
    "\n",
    "Columns in the dataset which are having numeric continuous values can be replaced with the mean, median, or mode of remaining values in the column. This method can prevent the loss of data compared to the earlier method."
   ]
  },
  {
   "cell_type": "code",
   "execution_count": 20,
   "id": "9f49986d-6e1f-4f89-9385-3d86c9314bb7",
   "metadata": {},
   "outputs": [],
   "source": [
    "df = pd.read_csv(\"titanic_dataset.csv\")"
   ]
  },
  {
   "cell_type": "code",
   "execution_count": 23,
   "id": "41a75531-2992-4aa7-8fc1-fecb02e5c4d0",
   "metadata": {},
   "outputs": [
    {
     "data": {
      "text/plain": [
       "177"
      ]
     },
     "execution_count": 23,
     "metadata": {},
     "output_type": "execute_result"
    }
   ],
   "source": [
    "df[\"Age\"].isnull().sum()"
   ]
  },
  {
   "cell_type": "code",
   "execution_count": 26,
   "id": "8adac858-9a3f-4384-853d-043709975e56",
   "metadata": {},
   "outputs": [],
   "source": [
    "df[\"Age\"] = df[\"Age\"].fillna(df[\"Age\"].mean())"
   ]
  },
  {
   "cell_type": "code",
   "execution_count": 27,
   "id": "c7161f5e-d1ae-48c4-9b09-b17c27dc8b0b",
   "metadata": {},
   "outputs": [
    {
     "data": {
      "text/plain": [
       "0"
      ]
     },
     "execution_count": 27,
     "metadata": {},
     "output_type": "execute_result"
    }
   ],
   "source": [
    "df[\"Age\"].isnull().sum()"
   ]
  },
  {
   "cell_type": "markdown",
   "id": "387386a6-533f-415d-807c-c28992a33304",
   "metadata": {},
   "source": [
    "#### 3. Imputation method for categorical columns:"
   ]
  },
  {
   "cell_type": "code",
   "execution_count": 30,
   "id": "56d7e80b-4695-4b3b-a4fa-365798293bbe",
   "metadata": {},
   "outputs": [],
   "source": [
    "mode_val = df[\"Embarked\"].mode()"
   ]
  },
  {
   "cell_type": "code",
   "execution_count": 40,
   "id": "30800907-f298-41fc-95d0-7114847f2761",
   "metadata": {},
   "outputs": [],
   "source": [
    "df[\"Embarked\"] = df[\"Embarked\"].replace(to_replace = np.NaN,value = \"mode_val\")"
   ]
  },
  {
   "cell_type": "code",
   "execution_count": 42,
   "id": "bbbbd3ed-09b1-4b04-914f-dcf38b541ca5",
   "metadata": {},
   "outputs": [
    {
     "data": {
      "text/plain": [
       "0"
      ]
     },
     "execution_count": 42,
     "metadata": {},
     "output_type": "execute_result"
    }
   ],
   "source": [
    "df[\"Embarked\"].isnull().sum()"
   ]
  },
  {
   "cell_type": "markdown",
   "id": "24f6fcb5-95bb-49f9-91fc-9b5218cc18f3",
   "metadata": {},
   "source": [
    "#### 4. Other Imputation Methods\n",
    "\n",
    "Depending on the nature of the data or data type, some other imputation methods may be more appropriate to impute missing values.\n",
    "\n",
    "- For example, for the data variable having longitudinal behavior, it might make sense to use the last valid observation to fill the missing value. This is known as the Last observation carried forward (LOCF) method.\n",
    "- For the time-series dataset variable, it makes sense to use the interpolation of the variable before and after a timestamp for a missing value.\n",
    "\n"
   ]
  },
  {
   "cell_type": "code",
   "execution_count": 2,
   "id": "eafed6bb-0202-4a1e-be4c-e4544211b4ab",
   "metadata": {},
   "outputs": [],
   "source": [
    "# Last observation carried forward method (LOCF):\n",
    "import pandas as pd\n",
    "df1 = pd.read_csv(\"titanic_dataset.csv\")"
   ]
  },
  {
   "cell_type": "code",
   "execution_count": 3,
   "id": "1c201457-545c-4ce2-a7ba-7c3df992f53a",
   "metadata": {},
   "outputs": [],
   "source": [
    "df1[\"Age\"] = df1[\"Age\"].fillna(method = \"ffill\")"
   ]
  },
  {
   "cell_type": "code",
   "execution_count": 4,
   "id": "dc8d6e82-dd95-47af-8e0c-6c662fe3abd3",
   "metadata": {},
   "outputs": [
    {
     "data": {
      "text/plain": [
       "0"
      ]
     },
     "execution_count": 4,
     "metadata": {},
     "output_type": "execute_result"
    }
   ],
   "source": [
    "df1[\"Age\"].isna().sum()"
   ]
  },
  {
   "cell_type": "code",
   "execution_count": 7,
   "id": "51838c80-fdf3-4e59-9aa0-c51cfb04e0ce",
   "metadata": {},
   "outputs": [
    {
     "data": {
      "text/plain": [
       "177"
      ]
     },
     "execution_count": 7,
     "metadata": {},
     "output_type": "execute_result"
    }
   ],
   "source": [
    "# Interpolation method\n",
    "df2 = pd.read_csv(\"titanic_dataset.csv\")\n",
    "df2[\"Age\"].isnull().sum()"
   ]
  },
  {
   "cell_type": "code",
   "execution_count": 8,
   "id": "a29c9946-5326-4f71-a9e2-53ad6c1df665",
   "metadata": {},
   "outputs": [],
   "source": [
    "df2[\"Age\"] = df2[\"Age\"].interpolate(method = \"linear\",limit_direction = \"forward\")"
   ]
  },
  {
   "cell_type": "code",
   "execution_count": 9,
   "id": "0c599d86-309d-482b-b9a5-00844f3933f8",
   "metadata": {},
   "outputs": [
    {
     "data": {
      "text/plain": [
       "0"
      ]
     },
     "execution_count": 9,
     "metadata": {},
     "output_type": "execute_result"
    }
   ],
   "source": [
    "df2[\"Age\"].isnull().sum()"
   ]
  },
  {
   "cell_type": "markdown",
   "id": "c79dbffd-a728-40a4-b096-bd44efe188da",
   "metadata": {},
   "source": [
    "#### 5. Using Algorithms that support missing values:\n",
    "Some algorithms such as k-NN , Naive Bayes and Random forest does support missing values. No need to handle missing values in each column as ML algorithms will handle them efficiently.\n",
    "\n",
    "Cons: No implementation of these ML algorithms in the scikit-learn library.\n"
   ]
  },
  {
   "cell_type": "markdown",
   "id": "ca3ce206-f6f6-4e7e-b650-fb0c9ad4c25d",
   "metadata": {},
   "source": [
    "#### 6. Prediction of missing values:\n",
    "The regression or classification model can be used for the prediction of missing values depending on the nature (categorical or continuous) of the feature having missing value.It gives a better result than earlier methods.Also takes into account the covariance between the missing value column and other columns.\n"
   ]
  },
  {
   "cell_type": "markdown",
   "id": "c49b57ee-a17f-4e02-815f-1cc0f411ac7a",
   "metadata": {},
   "source": [
    "#### 7. Imputation using Deep Learning Library — Datawig\n",
    "This method works very well with categorical, continuous, and non-numerical features. Datawig is a library that learns ML models using Deep Neural Networks to impute missing values in the datagram."
   ]
  },
  {
   "cell_type": "markdown",
   "id": "861b145a-4e1d-4ced-b1be-b87367e7ac1b",
   "metadata": {},
   "source": [
    "### Q3: Explain the imbalanced data. What will happen if imbalanced data is not handled?"
   ]
  },
  {
   "cell_type": "markdown",
   "id": "31f99419-4f2f-478b-b626-102f634f6138",
   "metadata": {},
   "source": [
    "Data imbalance usually reflects an unequal distribution of classes within a dataset. A classification data set with skewed class proportions is called imbalanced. Classes that make up a large proportion of the data set are called majority classes. Those that make up a smaller proportion are minority classes.\n",
    "\n",
    "Imblalanced data counts:\n",
    "\n",
    "Degree of imbalance\t &   Proportion of Minority Class\n",
    "- Mild:\t                  20-40% of the data set\n",
    "- Moderate:\t              1-20% of the data set\n",
    "- Extreme:                <1% of the data set\n",
    "\n",
    "Consider the example of a model that detects fraud. Instances of fraud happen once per 200 transactions in this data set, so in the true distribution, about 0.5% of the data is positive. With so few positives relative to negatives, the training model will spend most of its time on negative examples and not learn enough from positive ones. For example, if your batch size is 128, many batches will have no positive examples, so the gradients will be less informative."
   ]
  },
  {
   "cell_type": "markdown",
   "id": "357f5540-e51b-4243-a38d-193e76366596",
   "metadata": {},
   "source": [
    "### Q4: What are Up-sampling and Down-sampling? Explain with an example when up-sampling and downsampling are required."
   ]
  },
  {
   "cell_type": "markdown",
   "id": "21a7135b-b947-4aaa-b7b0-ca85042b79a7",
   "metadata": {},
   "source": [
    "#### Upsampling:\n",
    "It is a method used to increase the number of instances in a dataset. It is commonly used when there is an imbalanced distribution of data, with one class being significantly underrepresented. Upsampling involves generating synthetic data points that are similar to the existing data, and adding them to the dataset.\n",
    "\n",
    "    Example: In medical diagnosis, the prevalence of certain diseases may be significantly lower than others. For instance, in rare diseases, the number of positive cases may be limited compared to negative cases. Upsampling can help address this issue by generating synthetic instances of positive cases, allowing the model to learn from a more diverse dataset and improve its diagnostic accuracy.\n",
    "\n",
    "#### Down-Sampling: \n",
    "Downsampling is a method used to decrease the size of a dataset by removing some of the instances. This is often done to reduce computational complexity and training time, and to eliminate redundancy or irrelevant instances from the dataset. When dealing with large datasets or real-time processing, downsampling can be beneficial as it reduces the computational load and memory requirements.\n",
    "\n",
    "    Example: One of the primary applications of downsampling is in image processing. By reducing the resolution of an image, downsampling enables efficient storage and transmission, making it an essential component of image compression algorithms like JPEG."
   ]
  },
  {
   "cell_type": "markdown",
   "id": "4ec07c5f-a433-4a35-b078-ec884d0eaf64",
   "metadata": {},
   "source": [
    "### Q5: What is data Augmentation? Explain SMOTE."
   ]
  },
  {
   "cell_type": "markdown",
   "id": "3c611d68-b743-484b-922d-0977bf441e98",
   "metadata": {},
   "source": [
    "#### Data augmentation \n",
    "It is the process of increasing the amount and diversity of data. We do not collect new data, rather we transform the already present data. It is a technique of artificially increasing the training set by creating modified copies of a dataset using existing data. It includes making minor changes to the dataset or using deep learning to generate new data points.  \n",
    "\n",
    "#### SMOTE(Synthetic Minority Oversampling Technique):\n",
    "SMOTE is an algorithm that performs data augmentation by creating synthetic data points based on the original data points. SMOTE can be seen as an advanced version of oversampling, or as a specific algorithm for data augmentation. The advantage of SMOTE is that you are not generating duplicates, but rather creating synthetic data points that are slightly different from the original data points. SMOTE synthesises new minority instances between existing minority instances. It generates the virtual training records by linear interpolation for the minority class. These synthetic training records are generated by randomly selecting one or more of the k-nearest neighbors for each example in the minority class. After the oversampling process, the data is reconstructed and several classification models can be applied for the processed data.\n",
    "\n",
    "The SMOTE algorithm works as follows:\n",
    "\n",
    "You draw a random sample from the minority class.\n",
    "For the observations in this sample, you will identify the k nearest neighbors.\n",
    "You will then take one of those neighbors and identify the vector between the current data point and the selected neighbor.\n",
    "You multiply the vector by a random number between 0 and 1.\n",
    "To obtain the synthetic data point, you add this to the current data point.\n",
    "\n",
    "This operation is actually very much like slightly moving the data point in the direction of its neighbor. This way, you make sure that your synthetic data point is not an exact copy of an existing data point while making sure that it is also not too different from the known observations in your minority class."
   ]
  },
  {
   "cell_type": "markdown",
   "id": "58bf0550-b576-49ac-bcfb-801e8c4991c9",
   "metadata": {},
   "source": [
    "### Q6: What are outliers in a dataset? Why is it essential to handle outliers?"
   ]
  },
  {
   "cell_type": "markdown",
   "id": "c76987f6-b772-484b-9d03-c9307dd33fa2",
   "metadata": {},
   "source": [
    "Outliers are those data points that are significantly different from the rest of the dataset. They are often abnormal observations that skew the data distribution, and arise due to inconsistent data entry, or erroneous observations.\n",
    "\n",
    "Reason to handle outliers:\n",
    "As outliers are very different values—abnormally low or abnormally high—their presence can often skew the results of statistical analyses on the dataset. This could lead to less effective and less useful models.\n",
    "Outliers can have a significant impact on the accuracy of machine learning models. If outliers are not detected and handled appropriately, they can lead to overfitting, underfitting, or biased results. For instance, in fraud detection, failing to detect fraudulent transactions can lead to significant financial losses. In the medical field, failing to detect an outlier in patient data can result in incorrect diagnoses and treatments.\n",
    "\n"
   ]
  },
  {
   "cell_type": "markdown",
   "id": "8da94efd-43c8-44ec-9de6-3113773c817c",
   "metadata": {},
   "source": [
    "### Q7: You are working on a project that requires analyzing customer data. However, you notice that some of the data is missing. What are some techniques you can use to handle the missing data in your analysis?"
   ]
  },
  {
   "cell_type": "markdown",
   "id": "9b6d5134-c8b4-44b9-b119-6be56b909d97",
   "metadata": {},
   "source": [
    "First Step is to identify the type of missing data. There are three main types of missing data: (1) Missing Completely at Random (MCAR), (2) Missing at Random (MAR), and (3) Missing Not at Random (MNAR).\n",
    "\n",
    "Next, there are various methods that can be applied to identify the missing data:\n",
    "\n",
    "- isnull(): This function returns a pandas dataframe, where each value is a boolean value True if the value is missing, False otherwise.\n",
    "\n",
    "- .notnull(): Similarly to the previous function, the values for this one are False if either NaN or None value is detected.\n",
    "\n",
    "- .info(): This function generates three main columns, including the “Non-Null Count” which shows the number of non-missing values for each column.\n",
    "\n",
    "- .isna(): This one is similar to isnull and notnull. However it shows True only when the missing value is NaN type. \n",
    "\n",
    "#### Techniques to be applied to handle the missing data:\n",
    "\n",
    "1.  Data Dropping\n",
    "Using the dropna() function is the easiest way to remove observations or features with missing values from the dataframe. Below are some techniques. \n",
    "\n",
    "Drop observations with missing values: \n",
    "\n",
    "These three scenarios can happen when trying to remove observations from a data set: dropna(): drops all the rows with missing values.\n",
    "\n",
    "2) Drop columns with missing values\n",
    "The parameter axis = 1 can be used to explicitly specify we are interested in columns rather than rows. dropna(axis = 1): drops all the columns with missing values.\n",
    "\n",
    "3) Mean/Median Imputation\n",
    "Mean and median imputations are respectively used to replace missing values of a given column with the mean and median of the non-missing values in that column. Normal distribution is the ideal scenario. Unfortunately, it is not always the case. This is where the median imputation can be helpful because it is not sensitive to outliers.In Python, the fillna() function from pandas can be used to make these replacements. \n",
    "\n",
    "4) Random Sample Imputation\n",
    "The idea behind the random sample imputation is different from the previous ones and involves additional steps. \n",
    "\n",
    "First, it starts by creating two subsets from the original data. The first subset contains all the observations without missing data, and the second one contains those with missing data. Then, it randomly selects from each subset a random observation.\n",
    "Furthermore, the missing data from the previously selected observation is replaced with the existing ones from the observation having all the data available.Finally, the process continues until there is no more missing information.\n",
    "\n",
    "5) Multiple Imputation\n",
    "This is a multivariate imputation technique, meaning that the missing information is filled by taking into consideration the information from the other columns. For instance, if the income value is missing for an individual, it is uncertain whether or not they have a mortgage. So, to determine the correct value, it is necessary to evaluate other characteristics such as credit score, occupation, and whether or not the individual owns a house."
   ]
  },
  {
   "cell_type": "markdown",
   "id": "585e05de-5737-444d-9719-ef1eadc45407",
   "metadata": {},
   "source": [
    "### Q8: You are working with a large dataset and find that a small percentage of the data is missing. What are some strategies you can use to determine if the missing data is missing at random or if there is a pattern to the missing data.\n"
   ]
  },
  {
   "cell_type": "markdown",
   "id": "172f0e8f-3083-4c13-af1a-ec001d0552c0",
   "metadata": {},
   "source": [
    "The missing data can be identified based on the following strategies:\n",
    "1. Missing completely at random(MCAR): MCAR is  a type of missing data mechanism in which the probability of a value being missing is unrelated to both thr observed data and the missing data. They missing data is randomly distributed throughout the dataset and there is no systematic relation for wht they are missing.\n",
    "\n",
    "2. Missing at random (MAR): In contrast to MCAR, MAR does not assume that the other variables cannot predict the missing value. This type is perhaps more often the case when there are errors with recording the data correctly. The probability of value bein missing depends only on the observed data but not on the missing data.\n",
    "\n",
    "3. Missing not at random: In this type of missing data mechanism, the probability of missing values depends on value of missing data itself. The missingness of data is not random and is dependent on unobserved or unmeasured factors that are associated with missing values.\n",
    "\n",
    "The missing datapoints will fall in one of the above categories listed above and can be identified accordingly."
   ]
  },
  {
   "cell_type": "markdown",
   "id": "0ea3e4ec-60ef-46bf-87af-427c7ddad435",
   "metadata": {},
   "source": [
    "### Q9: Suppose you are working on a medical diagnosis project and find that the majority of patients in the dataset do not have the condition of interest, while a small percentage do. What are some strategies you can use to evaluate the performance of your machine learning model on this imbalanced dataset?"
   ]
  },
  {
   "cell_type": "markdown",
   "id": "5645f339-b9d7-410f-b654-8695b83ab2bb",
   "metadata": {},
   "source": [
    "#### SMOTE: \n",
    "Since a small number of dataset have the condition of interest, the data needs to be over-sample so that the model does not give a biased prediciton towards majority datasets.\n",
    "Medical diagnosis project should keep in view of the following:\n",
    "- true positives (the model correctly predicted true)\n",
    "- false positives (the model incorrectly predicted true)\n",
    "- true negatives (the model correctly predicted false)\n",
    "- false negatives (the model incorrectly predicted false)\n",
    "\n",
    "True positives and true negatives are both correct predictions: having many of those is the ideal situation. False positives and false negatives are both wrong predictions: having little of them is the ideal case as well. Yet in many cases, we may prefer having false positives rather than having false negatives. An obvious example would be testing for the coronavirus. Imagine that sick people take a test and they obtain a false negative: they will go out and infect other people. On the other hand, if they are false positive they will be obliged to stay home: not ideal, but at least they do not form a public health hazard.\n",
    "\n",
    "When we have a strong class imbalance, we have very few cases in one class, resulting in the model hardly ever predicting that class. Using SMOTE we can tweak the model to reduce false negatives, at the cost of increasing false positives. The result of using SMOTE is generally an increase in recall, at the cost of lower precision. This means that we will add more predictions of the minority class: some of them correct (increasing recall), but some of them wrong (decreasing precision).\n",
    "\n",
    "#### Maximum Likelihood\n",
    "A large class of model-based procedures arises from defining a model for the variables with missing values and making statistical inferences based on what are called maximum likelihood (ML) methods. Model-based methods are quite flexible and clearly set forth underlying model assumptions so that they can be evaluated.\n",
    "\n",
    "#### Multiple Imputation\n",
    "Multiple imputation (MI) has emerged as a popular technique for dealing with missing data problems. The technique of multiple imputation involves creating multiple complete data sets by filling in values for the missing data. Then, each filled-in data set is analyzed as if it were a complete data set.The inferences for the filled-in data sets are then combined into one result by averaging over the filled-in data sets."
   ]
  },
  {
   "cell_type": "markdown",
   "id": "897866d0-2e99-4512-9db4-8492012f37d4",
   "metadata": {},
   "source": [
    "### Q10: When attempting to estimate customer satisfaction for a project, you discover that the dataset is unbalanced, with the bulk of customers reporting being satisfied. What methods can you employ to balance the dataset and down-sample the majority class?"
   ]
  },
  {
   "cell_type": "markdown",
   "id": "830de1f5-aeff-48c2-9ea4-1cc3e753b598",
   "metadata": {},
   "source": [
    "Downsampling is the process of reducing the number of samples in a signal. Some common downsampling methods include decimation, averaging, and maximum decimation. Decimation involves reducing the sample rate by an integer factor, while averaging involves taking the average of groups of samples. Maximum decimation involves selecting the maximum value from groups of samples. There are also more advanced downsampling techniques such as wavelet-based methods and filter-bank downsampling."
   ]
  },
  {
   "cell_type": "markdown",
   "id": "f3c0dd46-3e81-4894-ac34-e8a32c1a9db8",
   "metadata": {},
   "source": [
    "### Q11: You discover that the dataset is unbalanced with a low percentage of occurrences while working on a project that requires you to estimate the occurrence of a rare event. What methods can you employ to balance the dataset and up-sample the minority class?"
   ]
  },
  {
   "cell_type": "markdown",
   "id": "dbf7f09d-9bb5-4f71-8f91-c27bfa99eb29",
   "metadata": {},
   "source": [
    "Upsampling or Oversampling refers to the technique to create artificial or duplicate data points or of the minority class sample to balance the class label. There are various oversampling techniques that can be used to create artificial data points.\n",
    "\n",
    "1. Random Over Sampling:\n",
    "Random oversampling is the simplest oversampling technique to balance the imbalanced nature of the dataset. It balances the data by replicating the minority class samples. This does not cause any loss of information, but the dataset is prone to overfitting as the same information is copied.\n",
    "\n",
    "2. SMOTE:\n",
    "In the case of random oversampling, it was prone to overfitting as the minority class samples are replicated, here SMOTE comes into the picture. SMOTE stands for Synthetic Minority Oversampling Technique. It creates new synthetic samples to balance the dataset.SMOTE works by utilizing a k-nearest neighbor algorithm to create synthetic data."
   ]
  },
  {
   "cell_type": "code",
   "execution_count": null,
   "id": "23facc97-e205-434a-be77-d4ee7624922c",
   "metadata": {},
   "outputs": [],
   "source": []
  }
 ],
 "metadata": {
  "kernelspec": {
   "display_name": "Python 3 (ipykernel)",
   "language": "python",
   "name": "python3"
  },
  "language_info": {
   "codemirror_mode": {
    "name": "ipython",
    "version": 3
   },
   "file_extension": ".py",
   "mimetype": "text/x-python",
   "name": "python",
   "nbconvert_exporter": "python",
   "pygments_lexer": "ipython3",
   "version": "3.10.8"
  }
 },
 "nbformat": 4,
 "nbformat_minor": 5
}
